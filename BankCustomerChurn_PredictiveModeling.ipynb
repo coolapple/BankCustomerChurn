{
 "cells": [
  {
   "cell_type": "markdown",
   "metadata": {
    "colab_type": "text",
    "id": "EaFDa55RNIf3"
   },
   "source": [
    "# Bank Customer Churn Predictive Modeling\n",
    "\n",
    "1. Show data cleaning and preparation steps\n",
    "\n",
    "2. Perform EDA on the given dataset and list out findings\n",
    "\n",
    "3. Predict Churn rate using various models and technicals\n",
    "\n",
    "4. Model validation and summary"
   ]
  },
  {
   "cell_type": "code",
   "execution_count": 225,
   "metadata": {
    "colab": {
     "base_uri": "https://localhost:8080/",
     "height": 17
    },
    "colab_type": "code",
    "id": "w2BnFaLoNIf5",
    "outputId": "80424495-11ee-448e-931f-eb80003f84a3"
   },
   "outputs": [
    {
     "data": {
      "text/html": [
       "        <script type=\"text/javascript\">\n",
       "        window.PlotlyConfig = {MathJaxConfig: 'local'};\n",
       "        if (window.MathJax) {MathJax.Hub.Config({SVG: {font: \"STIX-Web\"}});}\n",
       "        if (typeof require !== 'undefined') {\n",
       "        require.undef(\"plotly\");\n",
       "        requirejs.config({\n",
       "            paths: {\n",
       "                'plotly': ['https://cdn.plot.ly/plotly-latest.min']\n",
       "            }\n",
       "        });\n",
       "        require(['plotly'], function(Plotly) {\n",
       "            window._Plotly = Plotly;\n",
       "        });\n",
       "        }\n",
       "        </script>\n",
       "        "
      ]
     },
     "metadata": {
      "tags": []
     },
     "output_type": "display_data"
    }
   ],
   "source": [
    "# Importing neccessary Packages\n",
    "import numpy as np\n",
    "import pandas as pd\n",
    "import matplotlib.pyplot as plt\n",
    "from scipy.stats import mode\n",
    "from scipy import stats\n",
    "%matplotlib inline\n",
    "\n",
    "# Libraries\n",
    "from __future__ import print_function\n",
    "import numpy as np # linear algebra\n",
    "import pandas as pd # data processing, CSV file I/O (e.g. pd.read_csv)\n",
    "import seaborn as sns #visualization\n",
    "import matplotlib.pyplot as plt #visualization\n",
    "%matplotlib inline\n",
    "\n",
    "import itertools\n",
    "import warnings\n",
    "warnings.filterwarnings(\"ignore\")\n",
    "import os\n",
    "import io\n",
    "import plotly.offline as py #visualization\n",
    "py.init_notebook_mode(connected=True) #visualization\n",
    "import plotly.graph_objs as go #visualization\n",
    "import plotly.tools as tls #visualization\n",
    "import plotly.figure_factory as ff #visualization\n",
    "#print(os.listdir(\"../input\"))\n",
    "from plotly.offline import *"
   ]
  },
  {
   "cell_type": "code",
   "execution_count": 0,
   "metadata": {
    "colab": {},
    "colab_type": "code",
    "id": "fH4HHSHCNIf8"
   },
   "outputs": [],
   "source": [
    "# Get mode values from mode function\n",
    "def Mode(x, axis=0):\n",
    "    return mode(x, axis).mode"
   ]
  },
  {
   "cell_type": "markdown",
   "metadata": {
    "colab_type": "text",
    "id": "rwwDAs0rNIgA"
   },
   "source": [
    "## 1. Data Cleaning and preparation steps"
   ]
  },
  {
   "cell_type": "code",
   "execution_count": 0,
   "metadata": {
    "colab": {},
    "colab_type": "code",
    "id": "itC0ZuGMNIgB"
   },
   "outputs": [],
   "source": [
    "# Load dataset\n",
    "df_bank = pd.read_csv('churn.csv')\n",
    "df_bank = df_bank.iloc[:, 5:]"
   ]
  },
  {
   "cell_type": "code",
   "execution_count": 228,
   "metadata": {
    "colab": {
     "base_uri": "https://localhost:8080/",
     "height": 80
    },
    "colab_type": "code",
    "id": "8rnKZL3hNIgE",
    "outputId": "98753d46-a89d-4372-873d-3ea2a0ad30e0"
   },
   "outputs": [
    {
     "data": {
      "text/html": [
       "<div>\n",
       "<style scoped>\n",
       "    .dataframe tbody tr th:only-of-type {\n",
       "        vertical-align: middle;\n",
       "    }\n",
       "\n",
       "    .dataframe tbody tr th {\n",
       "        vertical-align: top;\n",
       "    }\n",
       "\n",
       "    .dataframe thead th {\n",
       "        text-align: right;\n",
       "    }\n",
       "</style>\n",
       "<table border=\"1\" class=\"dataframe\">\n",
       "  <thead>\n",
       "    <tr style=\"text-align: right;\">\n",
       "      <th></th>\n",
       "      <th>CreditScore</th>\n",
       "      <th>Geography</th>\n",
       "      <th>Gender</th>\n",
       "      <th>Age</th>\n",
       "      <th>Tenure</th>\n",
       "      <th>Balance</th>\n",
       "      <th>NumOfProducts</th>\n",
       "      <th>HasCrCard</th>\n",
       "      <th>IsActiveMember</th>\n",
       "      <th>EstimatedSalary</th>\n",
       "      <th>Exited</th>\n",
       "    </tr>\n",
       "  </thead>\n",
       "  <tbody>\n",
       "    <tr>\n",
       "      <th>0</th>\n",
       "      <td>619</td>\n",
       "      <td>France</td>\n",
       "      <td>Female</td>\n",
       "      <td>42</td>\n",
       "      <td>2</td>\n",
       "      <td>0.0</td>\n",
       "      <td>1</td>\n",
       "      <td>1</td>\n",
       "      <td>1</td>\n",
       "      <td>101348.88</td>\n",
       "      <td>1</td>\n",
       "    </tr>\n",
       "  </tbody>\n",
       "</table>\n",
       "</div>"
      ],
      "text/plain": [
       "   CreditScore Geography  Gender  ...  IsActiveMember  EstimatedSalary  Exited\n",
       "0          619    France  Female  ...               1        101348.88       1\n",
       "\n",
       "[1 rows x 11 columns]"
      ]
     },
     "execution_count": 228,
     "metadata": {
      "tags": []
     },
     "output_type": "execute_result"
    }
   ],
   "source": [
    "# Quick view of data\n",
    "df_bank.head(1)"
   ]
  },
  {
   "cell_type": "code",
   "execution_count": 229,
   "metadata": {
    "colab": {
     "base_uri": "https://localhost:8080/",
     "height": 221
    },
    "colab_type": "code",
    "id": "CdKXUzRCOYMm",
    "outputId": "427d78a1-766b-4e42-aa12-dc5c4ac15d69"
   },
   "outputs": [
    {
     "data": {
      "text/plain": [
       "CreditScore         460\n",
       "Geography             3\n",
       "Gender                2\n",
       "Age                  70\n",
       "Tenure               11\n",
       "Balance            6382\n",
       "NumOfProducts         4\n",
       "HasCrCard             2\n",
       "IsActiveMember        2\n",
       "EstimatedSalary    9999\n",
       "Exited                2\n",
       "dtype: int64"
      ]
     },
     "execution_count": 229,
     "metadata": {
      "tags": []
     },
     "output_type": "execute_result"
    }
   ],
   "source": [
    "df_bank.nunique()"
   ]
  },
  {
   "cell_type": "code",
   "execution_count": 0,
   "metadata": {
    "colab": {},
    "colab_type": "code",
    "id": "SedWRsaSNIgH"
   },
   "outputs": [],
   "source": [
    "# Quick view of the bill_id dataset\n",
    "#ChurnRate = pd.DataFrame(columns = ['tenure', 'ChurnRate'])\n",
    "churn = np.zeros((11,2))\n",
    "for i in range(11):\n",
    "  #ChurnRate.iloc[i, 0].value = i\n",
    "  churn[i,0] = i\n",
    "  a = np.sum(df_bank['Exited'][df_bank['Tenure']==i])\n",
    "\n",
    "  b = df_bank['Exited'][df_bank['Tenure']==i].count()\n",
    "  churn[i,1] = a/b\n",
    "\n",
    "df_ChurnRate = pd.DataFrame(data = churn, columns=['tenure', 'ChurnRate'])"
   ]
  },
  {
   "cell_type": "code",
   "execution_count": 231,
   "metadata": {
    "colab": {
     "base_uri": "https://localhost:8080/",
     "height": 312
    },
    "colab_type": "code",
    "id": "6qAq4GXvNIgL",
    "outputId": "e78c6ea4-f34f-455a-d62e-166b346ae81c"
   },
   "outputs": [
    {
     "data": {
      "text/plain": [
       "<matplotlib.axes._subplots.AxesSubplot at 0x7fd79762b748>"
      ]
     },
     "execution_count": 231,
     "metadata": {
      "tags": []
     },
     "output_type": "execute_result"
    },
    {
     "data": {
      "image/png": "[encoded data removed]",
      "text/plain": [
       "<Figure size 432x288 with 1 Axes>"
      ]
     },
     "metadata": {
      "tags": []
     },
     "output_type": "display_data"
    }
   ],
   "source": [
    "# Quick view of the churn rate trend over tenure\n",
    "plt.title(\"Bank Churn Rate over years\")\n",
    "plt.xlabel(\"Tenure\")\n",
    "plt.ylabel(\"Churn Rate\")\n",
    "df_ChurnRate['ChurnRate'].plot.line()"
   ]
  },
  {
   "cell_type": "code",
   "execution_count": 232,
   "metadata": {
    "colab": {
     "base_uri": "https://localhost:8080/",
     "height": 170
    },
    "colab_type": "code",
    "id": "ubSlf3ByNIgP",
    "outputId": "8d8719fd-e5b4-4616-8884-b7797a4cdf48"
   },
   "outputs": [
    {
     "data": {
      "text/plain": [
       "CreditScore           652.000\n",
       "Age                    37.000\n",
       "Tenure                  5.000\n",
       "Balance             97198.540\n",
       "NumOfProducts           1.000\n",
       "HasCrCard               1.000\n",
       "IsActiveMember          1.000\n",
       "EstimatedSalary    100193.915\n",
       "dtype: float64"
      ]
     },
     "execution_count": 232,
     "metadata": {
      "tags": []
     },
     "output_type": "execute_result"
    }
   ],
   "source": [
    "# Get the median of the observations of dataset\n",
    "df_bank[df_bank.columns[:10]].median()"
   ]
  },
  {
   "cell_type": "code",
   "execution_count": 233,
   "metadata": {
    "colab": {
     "base_uri": "https://localhost:8080/",
     "height": 68
    },
    "colab_type": "code",
    "id": "EKwOq72jNIgS",
    "outputId": "8d5b8134-463b-4978-96f2-fe630c9488b8"
   },
   "outputs": [
    {
     "data": {
      "text/plain": [
       "0    79.63\n",
       "1    20.37\n",
       "Name: Exited, dtype: float64"
      ]
     },
     "execution_count": 233,
     "metadata": {
      "tags": []
     },
     "output_type": "execute_result"
    }
   ],
   "source": [
    "# Percentage per category for the target column.\n",
    "percentage_labels = df_bank['Exited'].value_counts(normalize = True) * 100\n",
    "percentage_labels"
   ]
  },
  {
   "cell_type": "code",
   "execution_count": 0,
   "metadata": {
    "colab": {},
    "colab_type": "code",
    "id": "j2y3wsIfNIgV"
   },
   "outputs": [],
   "source": [
    "churn     = df_bank[df_bank[\"Exited\"] == 1]\n",
    "not_churn = df_bank[df_bank[\"Exited\"] == 0]\n",
    "target_col = [\"Exited\"]\n",
    "cat_cols   = df_bank.nunique()[df_bank.nunique() < 6].keys().tolist()\n",
    "cat_cols   = [x for x in cat_cols if x not in target_col]\n",
    "num_cols   = [x for x in df_bank.columns if x not in cat_cols + target_col]"
   ]
  },
  {
   "cell_type": "code",
   "execution_count": 235,
   "metadata": {
    "colab": {
     "base_uri": "https://localhost:8080/",
     "height": 487
    },
    "colab_type": "code",
    "id": "Lzu0QnRMNIgY",
    "outputId": "19e766db-8e1e-4bdf-f15b-8677de4fbe67"
   },
   "outputs": [
    {
     "data": {
      "image/png": "[encoded data removed]",
      "text/plain": [
       "<Figure size 720x576 with 1 Axes>"
      ]
     },
     "metadata": {
      "tags": []
     },
     "output_type": "display_data"
    }
   ],
   "source": [
    "\n",
    "labels = 'Exited', 'Retained'\n",
    "sizes = [df_bank.Exited[df_bank['Exited']==1].count(), df_bank.Exited[df_bank['Exited']==0].count()]\n",
    "explode = (0, 0.1)\n",
    "fig1, ax1 = plt.subplots(figsize=(10, 8))\n",
    "ax1.pie(sizes, explode=explode, labels=labels, autopct='%1.1f%%',\n",
    "        shadow=True, startangle=90)\n",
    "ax1.axis('equal')\n",
    "plt.title(\"Proportion of customer churned and retained\", size = 20)\n",
    "plt.show()"
   ]
  },
  {
   "cell_type": "code",
   "execution_count": 0,
   "metadata": {
    "colab": {},
    "colab_type": "code",
    "id": "62eeDD0ANIge"
   },
   "outputs": [],
   "source": []
  },
  {
   "cell_type": "code",
   "execution_count": 0,
   "metadata": {
    "colab": {},
    "colab_type": "code",
    "id": "ArUr08a7NIgh"
   },
   "outputs": [],
   "source": [
    "#Separating churn and non churn customers\n",
    "#function  for pie plot for customer attrition types\n",
    "def plot_pie(column, filename_ = \"temp.html\") :\n",
    "    \n",
    "    trace1 = go.Pie(values  = churn[column].value_counts().values.tolist(),\n",
    "                    labels  = churn[column].value_counts().keys().tolist(),\n",
    "                    hoverinfo = \"label+percent+name\",\n",
    "                    domain  = dict(x = [0,.48]),\n",
    "                    name    = \"Churn Customers\",\n",
    "                    marker  = dict(line = dict(width = 2,\n",
    "                                               color = \"rgb(243,243,243)\")\n",
    "                                  ),\n",
    "                    hole    = .6\n",
    "                   )\n",
    "    trace2 = go.Pie(values  = not_churn[column].value_counts().values.tolist(),\n",
    "                    labels  = not_churn[column].value_counts().keys().tolist(),\n",
    "                    hoverinfo = \"label+percent+name\",\n",
    "                    marker  = dict(line = dict(width = 2,\n",
    "                                               color = \"rgb(243,243,243)\")\n",
    "                                  ),\n",
    "                    domain  = dict(x = [.52,1]),\n",
    "                    hole    = .6,\n",
    "                    name    = \"Non churn customers\" \n",
    "                   )\n",
    "\n",
    "\n",
    "    layout = go.Layout(dict(title = column + \" distribution in customer attrition \",\n",
    "                            plot_bgcolor  = \"rgb(243,243,243)\",\n",
    "                            paper_bgcolor = \"rgb(243,243,243)\",\n",
    "                            annotations = [dict(text = \"churn customers\",\n",
    "                                                font = dict(size = 13),\n",
    "                                                showarrow = False,\n",
    "                                                x = .15, y = .5),\n",
    "                                           dict(text = \"Non churn customers\",\n",
    "                                                font = dict(size = 13),\n",
    "                                                showarrow = False,\n",
    "                                                x = .88,y = .5\n",
    "                                               )\n",
    "                                          ]\n",
    "                           )\n",
    "                      )\n",
    "    data = [trace1,trace2]\n",
    "    fig  = go.Figure(data = data,layout = layout)\n",
    "    py.plot(fig, filename= filename_)\n",
    "    plt.show()\n",
    "    \n",
    "#for all categorical columns plot pie\n",
    "#for i in cat_cols :\n",
    "#    plot_pie(i)"
   ]
  },
  {
   "cell_type": "code",
   "execution_count": 237,
   "metadata": {
    "colab": {
     "base_uri": "https://localhost:8080/",
     "height": 17
    },
    "colab_type": "code",
    "id": "GL4xPsVUNIgk",
    "outputId": "7421e224-b38d-4ab1-a470-a15d7d9b619f"
   },
   "outputs": [
    {
     "data": {
      "text/html": [
       "        <script type=\"text/javascript\">\n",
       "        window.PlotlyConfig = {MathJaxConfig: 'local'};\n",
       "        if (window.MathJax) {MathJax.Hub.Config({SVG: {font: \"STIX-Web\"}});}\n",
       "        if (typeof require !== 'undefined') {\n",
       "        require.undef(\"plotly\");\n",
       "        requirejs.config({\n",
       "            paths: {\n",
       "                'plotly': ['https://cdn.plot.ly/plotly-latest.min']\n",
       "            }\n",
       "        });\n",
       "        require(['plotly'], function(Plotly) {\n",
       "            window._Plotly = Plotly;\n",
       "        });\n",
       "        }\n",
       "        </script>\n",
       "        "
      ]
     },
     "metadata": {
      "tags": []
     },
     "output_type": "display_data"
    }
   ],
   "source": [
    "# Libraries\n",
    "from __future__ import print_function\n",
    "import numpy as np # linear algebra\n",
    "import pandas as pd # data processing, CSV file I/O (e.g. pd.read_csv)\n",
    "import seaborn as sns #visualization\n",
    "import matplotlib.pyplot as plt #visualization\n",
    "%matplotlib inline\n",
    "\n",
    "import itertools\n",
    "import warnings\n",
    "warnings.filterwarnings(\"ignore\")\n",
    "import os\n",
    "import io\n",
    "import plotly.offline as py #visualization\n",
    "py.init_notebook_mode(connected=True) #visualization\n",
    "import plotly.graph_objs as go #visualization\n",
    "import plotly.tools as tls #visualization\n",
    "import plotly.figure_factory as ff #visualization\n",
    "#print(os.listdir(\"../input\"))\n",
    "plt.show()\n",
    "#function  for histogram for customer churn types\n",
    "def histogram(column, filename_=\"temp.html\") :\n",
    "    trace1 = go.Histogram(x  = churn[column],\n",
    "                          histnorm= \"percent\",\n",
    "                          name = \"Churn Customers\",\n",
    "                          marker = dict(line = dict(width = .5,\n",
    "                                                    color = \"black\"\n",
    "                                                    )\n",
    "                                        ),\n",
    "                         opacity = .9 \n",
    "                         ) \n",
    "    \n",
    "    trace2 = go.Histogram(x  = not_churn[column],\n",
    "                          histnorm = \"percent\",\n",
    "                          name = \"Non churn customers\",\n",
    "                          marker = dict(line = dict(width = .5,\n",
    "                                              color = \"black\"\n",
    "                                             )\n",
    "                                 ),\n",
    "                          opacity = .9\n",
    "                         )\n",
    "    \n",
    "    data = [trace1,trace2]\n",
    "    layout = go.Layout(dict(title =column + \" distribution in customer attrition \",\n",
    "                            plot_bgcolor  = \"rgb(243,243,243)\",\n",
    "                            paper_bgcolor = \"rgb(243,243,243)\",\n",
    "                            xaxis = dict(gridcolor = 'rgb(255, 255, 255)',\n",
    "                                             title = column,\n",
    "                                             zerolinewidth=1,\n",
    "                                             ticklen=5,\n",
    "                                             gridwidth=2\n",
    "                                            ),\n",
    "                            yaxis = dict(gridcolor = 'rgb(255, 255, 255)',\n",
    "                                             title = \"percent\",\n",
    "                                             zerolinewidth=1,\n",
    "                                             ticklen=5,\n",
    "                                             gridwidth=2\n",
    "                                            ),\n",
    "                           )\n",
    "                      )\n",
    "    fig  = go.Figure(data=data,layout=layout)\n",
    "    \n",
    "    py.plot(fig, filename = filename_)"
   ]
  },
  {
   "cell_type": "code",
   "execution_count": 0,
   "metadata": {
    "colab": {},
    "colab_type": "code",
    "id": "5gf9MZ7rNIg-"
   },
   "outputs": [],
   "source": [
    "# pie and histogram for categorical variable and continous variables\n",
    "plot_pie(cat_cols[1], filename_= \"GenderPie.html\" )\n",
    "histogram(num_cols[1], filename_ = \"CreditScore.html\")"
   ]
  },
  {
   "cell_type": "code",
   "execution_count": 0,
   "metadata": {
    "colab": {},
    "colab_type": "code",
    "id": "QFo6IyulNIhD"
   },
   "outputs": [],
   "source": []
  },
  {
   "cell_type": "markdown",
   "metadata": {
    "colab_type": "text",
    "id": "kDfm9xZkNIhG"
   },
   "source": [
    "## 2. Feature Engineering and EDA analysis\n",
    "1. Tenure over age ( crossed later not much value added)\n",
    "2. Balance over salary (crossed later as not much value added)\n",
    "3. categorize continous variables (not used later as too much variance between train and test(99% vs. 87%), but if we have more features in original dataset, this can be very helpful)\n",
    "4. Converting categorical data\n",
    "5. correlation analysis"
   ]
  },
  {
   "cell_type": "markdown",
   "metadata": {
    "colab_type": "text",
    "id": "gUAgyPK3NIhH"
   },
   "source": [
    "### 2.1. Converting Categorical data to one hot encoding\n",
    "Convert all the categorical columns (geography and gender)\n",
    "and delete one column in case of colinearity\n",
    "\n",
    "---\n",
    "\n"
   ]
  },
  {
   "cell_type": "code",
   "execution_count": 0,
   "metadata": {
    "colab": {},
    "colab_type": "code",
    "id": "DNawn5PnNIhI"
   },
   "outputs": [],
   "source": [
    "# Dummy variables for Geographic\n",
    "Geo_dummies = pd.get_dummies(df_bank['Geography'], prefix = 'geo', prefix_sep = ':')\n",
    "df_bank = pd.concat([Geo_dummies, df_bank], axis = 1)"
   ]
  },
  {
   "cell_type": "code",
   "execution_count": 0,
   "metadata": {
    "colab": {},
    "colab_type": "code",
    "id": "brbD_nGaNIhK"
   },
   "outputs": [],
   "source": [
    "# Convert resident status to one hot encoding\n",
    "df_bank['Gender'] = df_bank['Gender'].map({'Female': -1, 'Male': 1})"
   ]
  },
  {
   "cell_type": "code",
   "execution_count": 241,
   "metadata": {
    "colab": {
     "base_uri": "https://localhost:8080/",
     "height": 204
    },
    "colab_type": "code",
    "id": "yMc1WmK8NIhP",
    "outputId": "aec3e605-ec48-48d3-bd50-cc17dc3cb58e"
   },
   "outputs": [
    {
     "data": {
      "text/html": [
       "<div>\n",
       "<style scoped>\n",
       "    .dataframe tbody tr th:only-of-type {\n",
       "        vertical-align: middle;\n",
       "    }\n",
       "\n",
       "    .dataframe tbody tr th {\n",
       "        vertical-align: top;\n",
       "    }\n",
       "\n",
       "    .dataframe thead th {\n",
       "        text-align: right;\n",
       "    }\n",
       "</style>\n",
       "<table border=\"1\" class=\"dataframe\">\n",
       "  <thead>\n",
       "    <tr style=\"text-align: right;\">\n",
       "      <th></th>\n",
       "      <th>geo:France</th>\n",
       "      <th>geo:Germany</th>\n",
       "      <th>geo:Spain</th>\n",
       "      <th>CreditScore</th>\n",
       "      <th>Geography</th>\n",
       "      <th>Gender</th>\n",
       "      <th>Age</th>\n",
       "      <th>Tenure</th>\n",
       "      <th>Balance</th>\n",
       "      <th>NumOfProducts</th>\n",
       "      <th>HasCrCard</th>\n",
       "      <th>IsActiveMember</th>\n",
       "      <th>EstimatedSalary</th>\n",
       "      <th>Exited</th>\n",
       "    </tr>\n",
       "  </thead>\n",
       "  <tbody>\n",
       "    <tr>\n",
       "      <th>0</th>\n",
       "      <td>1</td>\n",
       "      <td>0</td>\n",
       "      <td>0</td>\n",
       "      <td>619</td>\n",
       "      <td>France</td>\n",
       "      <td>-1</td>\n",
       "      <td>42</td>\n",
       "      <td>2</td>\n",
       "      <td>0.00</td>\n",
       "      <td>1</td>\n",
       "      <td>1</td>\n",
       "      <td>1</td>\n",
       "      <td>101348.88</td>\n",
       "      <td>1</td>\n",
       "    </tr>\n",
       "    <tr>\n",
       "      <th>1</th>\n",
       "      <td>0</td>\n",
       "      <td>0</td>\n",
       "      <td>1</td>\n",
       "      <td>608</td>\n",
       "      <td>Spain</td>\n",
       "      <td>-1</td>\n",
       "      <td>41</td>\n",
       "      <td>1</td>\n",
       "      <td>83807.86</td>\n",
       "      <td>1</td>\n",
       "      <td>0</td>\n",
       "      <td>1</td>\n",
       "      <td>112542.58</td>\n",
       "      <td>0</td>\n",
       "    </tr>\n",
       "    <tr>\n",
       "      <th>2</th>\n",
       "      <td>1</td>\n",
       "      <td>0</td>\n",
       "      <td>0</td>\n",
       "      <td>502</td>\n",
       "      <td>France</td>\n",
       "      <td>-1</td>\n",
       "      <td>42</td>\n",
       "      <td>8</td>\n",
       "      <td>159660.80</td>\n",
       "      <td>3</td>\n",
       "      <td>1</td>\n",
       "      <td>0</td>\n",
       "      <td>113931.57</td>\n",
       "      <td>1</td>\n",
       "    </tr>\n",
       "    <tr>\n",
       "      <th>3</th>\n",
       "      <td>1</td>\n",
       "      <td>0</td>\n",
       "      <td>0</td>\n",
       "      <td>699</td>\n",
       "      <td>France</td>\n",
       "      <td>-1</td>\n",
       "      <td>39</td>\n",
       "      <td>1</td>\n",
       "      <td>0.00</td>\n",
       "      <td>2</td>\n",
       "      <td>0</td>\n",
       "      <td>0</td>\n",
       "      <td>93826.63</td>\n",
       "      <td>0</td>\n",
       "    </tr>\n",
       "    <tr>\n",
       "      <th>4</th>\n",
       "      <td>0</td>\n",
       "      <td>0</td>\n",
       "      <td>1</td>\n",
       "      <td>850</td>\n",
       "      <td>Spain</td>\n",
       "      <td>-1</td>\n",
       "      <td>43</td>\n",
       "      <td>2</td>\n",
       "      <td>125510.82</td>\n",
       "      <td>1</td>\n",
       "      <td>1</td>\n",
       "      <td>1</td>\n",
       "      <td>79084.10</td>\n",
       "      <td>0</td>\n",
       "    </tr>\n",
       "  </tbody>\n",
       "</table>\n",
       "</div>"
      ],
      "text/plain": [
       "   geo:France  geo:Germany  geo:Spain  ...  IsActiveMember EstimatedSalary  Exited\n",
       "0           1            0          0  ...               1       101348.88       1\n",
       "1           0            0          1  ...               1       112542.58       0\n",
       "2           1            0          0  ...               0       113931.57       1\n",
       "3           1            0          0  ...               0        93826.63       0\n",
       "4           0            0          1  ...               1        79084.10       0\n",
       "\n",
       "[5 rows x 14 columns]"
      ]
     },
     "execution_count": 241,
     "metadata": {
      "tags": []
     },
     "output_type": "execute_result"
    }
   ],
   "source": [
    "\n",
    "df_bank.head()"
   ]
  },
  {
   "cell_type": "code",
   "execution_count": 0,
   "metadata": {
    "colab": {},
    "colab_type": "code",
    "id": "ekMgHDKLTzh-"
   },
   "outputs": [],
   "source": []
  },
  {
   "cell_type": "code",
   "execution_count": 0,
   "metadata": {
    "colab": {},
    "colab_type": "code",
    "id": "k0pkuiL8Ss_Y"
   },
   "outputs": [],
   "source": [
    "def plot_corr(df):\n",
    "    f, ax = plt.subplots(figsize=(10, 8))\n",
    "    mask = np.zeros_like(df.corr())\n",
    "    mask[np.triu_indices_from(mask)] = True\n",
    "    sns.heatmap(df.corr(), mask=mask, cmap=sns.light_palette(\"navy\"), linewidths=.75 )\n",
    "\n",
    "def plot_corr_dependent(df, dep_name, titles):\n",
    "  df_corr = df.corr()\n",
    "  ax=df_corr[[dep_name]].plot(kind='bar')\n",
    "  plt.xlabel('Attribute')\n",
    "  plt.ylabel('Correlation')\n",
    "  plt.title(titles)\n",
    "  plt.tight_layout()"
   ]
  },
  {
   "cell_type": "code",
   "execution_count": 243,
   "metadata": {
    "colab": {
     "base_uri": "https://localhost:8080/",
     "height": 559
    },
    "colab_type": "code",
    "id": "o153yPyWSt50",
    "outputId": "6e909099-b132-4116-a2df-a705b190f5ba"
   },
   "outputs": [
    {
     "data": {
      "image/png": "[encoded data removed]",
      "text/plain": [
       "<Figure size 720x576 with 2 Axes>"
      ]
     },
     "metadata": {
      "tags": []
     },
     "output_type": "display_data"
    }
   ],
   "source": [
    "plot_corr(df_bank)"
   ]
  },
  {
   "cell_type": "code",
   "execution_count": 0,
   "metadata": {
    "colab": {},
    "colab_type": "code",
    "id": "DyPqvrmCS2a3"
   },
   "outputs": [],
   "source": []
  },
  {
   "cell_type": "code",
   "execution_count": 0,
   "metadata": {
    "colab": {},
    "colab_type": "code",
    "id": "hV8F-jXzNIhR"
   },
   "outputs": [],
   "source": [
    "# library to use for categorize continuous variables ( for illustration as later we decided not to use this technicals)\n",
    "def woe_ordered_continuous(df, discrete_variabe_name, good_bad_variable_df):\n",
    "    df = pd.concat([df[discrete_variabe_name], good_bad_variable_df], axis = 1)\n",
    "    df = pd.concat([df.groupby(df.columns.values[0], as_index = False)[df.columns.values[1]].count(),\n",
    "                    df.groupby(df.columns.values[0], as_index = False)[df.columns.values[1]].mean()], axis = 1)\n",
    "    df = df.iloc[:, [0, 1, 3]]\n",
    "    df.columns = [df.columns.values[0], 'n_obs', 'prop_good']\n",
    "    df['prop_n_obs'] = df['n_obs'] / df['n_obs'].sum()\n",
    "    df['n_good'] = df['prop_good'] * df['n_obs']\n",
    "    df['n_bad'] = (1 - df['prop_good']) * df['n_obs']\n",
    "    df['prop_n_good'] = df['n_good'] / df['n_good'].sum()\n",
    "    df['prop_n_bad'] = df['n_bad'] / df['n_bad'].sum()\n",
    "    df['WoE'] = np.log(df['prop_n_good'] / df['prop_n_bad'])\n",
    "    #df = df.sort_values(['WoE'])\n",
    "    #df = df.reset_index(drop = True)\n",
    "    df['diff_prop_good'] = df['prop_good'].diff().abs()\n",
    "    df['diff_WoE'] = df['WoE'].diff().abs()\n",
    "    df['IV'] = (df['prop_n_good'] - df['prop_n_bad']) * df['WoE']\n",
    "    df['IV'] = df['IV'].sum()\n",
    "    return df\n",
    "# Below we define a function that takes 2 arguments: a dataframe and a number.\n",
    "# The number parameter has a default value of 0.\n",
    "# This means that if we call the function and omit the number parameter, it will be executed with it having a value of 0.\n",
    "# The function displays a graph.\n",
    "def plot_by_woe(df_WoE, rotation_of_x_axis_labels = 0):\n",
    "    x = np.array(df_WoE.iloc[:, 0].apply(str))\n",
    "    # Turns the values of the column with index 0 to strings, makes an array from these strings, and passes it to variable x.\n",
    "    y = df_WoE['WoE']\n",
    "    # Selects a column with label 'WoE' and passes it to variable y.\n",
    "    plt.figure(figsize=(18, 6))\n",
    "    # Sets the graph size to width 18 x height 6.\n",
    "    plt.plot(x, y, marker = 'o', linestyle = '--', color = 'k')\n",
    "    # Plots the datapoints with coordiantes variable x on the x-axis and variable y on the y-axis.\n",
    "    # Sets the marker for each datapoint to a circle, the style line between the points to dashed, and the color to black.\n",
    "    plt.xlabel(df_WoE.columns[0])\n",
    "    # Names the x-axis with the name of the column with index 0.\n",
    "    plt.ylabel('Weight of Evidence')\n",
    "    # Names the y-axis 'Weight of Evidence'.\n",
    "    plt.title(str('Weight of Evidence by ' + df_WoE.columns[0]))\n",
    "    # Names the grapth 'Weight of Evidence by ' the name of the column with index 0.\n",
    "    plt.xticks(rotation = rotation_of_x_axis_labels)\n",
    "    # Rotates the labels of the x-axis a predefined number of degrees."
   ]
  },
  {
   "cell_type": "code",
   "execution_count": 245,
   "metadata": {
    "colab": {
     "base_uri": "https://localhost:8080/",
     "height": 405
    },
    "colab_type": "code",
    "id": "_Eo_Tuv7NIhT",
    "outputId": "40ab4c24-f3ba-487b-de34-2a981ce3748a"
   },
   "outputs": [
    {
     "data": {
      "image/png": "[encoded data removed]",
      "text/plain": [
       "<Figure size 1296x432 with 1 Axes>"
      ]
     },
     "metadata": {
      "tags": []
     },
     "output_type": "display_data"
    }
   ],
   "source": [
    "df_bank['CreditScore_factor'] = pd.cut(df_bank['CreditScore'], 10)\n",
    "target_variable_df = df_bank['Exited']\n",
    "df_temp = woe_ordered_continuous(df_bank, 'CreditScore_factor', target_variable_df)\n",
    "plot_by_woe(df_temp)"
   ]
  },
  {
   "cell_type": "code",
   "execution_count": 0,
   "metadata": {
    "colab": {},
    "colab_type": "code",
    "id": "tId2lrCuNIhW"
   },
   "outputs": [],
   "source": [
    "# comments out as later we decided not to use\n",
    "# similar technicals apply to several other variables and accuray is too high and suspect of over engieering\n",
    "# should use in future case if have more features to distinguish \n",
    "\n",
    "\n",
    "#df_bank['creditScrore:<450'] = np.where((df_bank['CreditScore'].isin(range(450))), 1, 0)\n",
    "#df_bank['creditScore:450-650'] = np.where((df_bank['CreditScore'].isin(range(450,650))), 1, 0)\n",
    "#df_bank['creditScore:650-700'] = np.where((df_bank['CreditScore'].isin(range(650,700))), 1, 0)\n",
    "#df_bank['creditScore:>700'] = np.where((df_bank['CreditScore'].isin(range(700, 851))), 1, 0)"
   ]
  },
  {
   "cell_type": "code",
   "execution_count": 0,
   "metadata": {
    "colab": {},
    "colab_type": "code",
    "id": "VFTbm04lNIhZ"
   },
   "outputs": [],
   "source": [
    "df_bank.drop(['CreditScore_factor'], axis = 1, inplace= True)"
   ]
  },
  {
   "cell_type": "code",
   "execution_count": 0,
   "metadata": {
    "colab": {},
    "colab_type": "code",
    "id": "VlpTKdB3NIhe"
   },
   "outputs": [],
   "source": []
  },
  {
   "cell_type": "markdown",
   "metadata": {
    "colab_type": "text",
    "id": "TjO6UbFVNIiI"
   },
   "source": [
    "# 2. Perform EDA on the given dataset and list out findings\n",
    "First, I plot each numeric features with customer churn and not churn and see patterns Second, I plot boxplot for each numeric features to see if there is any outliers. Finally, I plot heatmap to see the correlation matrix and also the pairplot to see how features are correlated with each other."
   ]
  },
  {
   "cell_type": "code",
   "execution_count": 248,
   "metadata": {
    "colab": {
     "base_uri": "https://localhost:8080/",
     "height": 731
    },
    "colab_type": "code",
    "id": "kYb-M75RNIiI",
    "outputId": "24cb0caf-e8b2-4833-be57-edbb9b178714"
   },
   "outputs": [
    {
     "data": {
      "text/plain": [
       "<matplotlib.axes._subplots.AxesSubplot at 0x7fd79746ec50>"
      ]
     },
     "execution_count": 248,
     "metadata": {
      "tags": []
     },
     "output_type": "execute_result"
    },
    {
     "data": {
      "image/png": "[encoded data removed]",
      "text/plain": [
       "<Figure size 1440x864 with 4 Axes>"
      ]
     },
     "metadata": {
      "tags": []
     },
     "output_type": "display_data"
    }
   ],
   "source": [
    "# We first review the 'Status' relation with categorical variables\n",
    "    fig, axarr = plt.subplots(2, 2, figsize=(20, 12))\n",
    "    sns.countplot(x='Geography', hue = 'Exited',data = df_bank, ax=axarr[0][0])\n",
    "    sns.countplot(x='Gender', hue = 'Exited',data = df_bank, ax=axarr[0][1])\n",
    "    sns.countplot(x='HasCrCard', hue = 'Exited',data = df_bank, ax=axarr[1][0])\n",
    "    sns.countplot(x='IsActiveMember', hue = 'Exited',data = df_bank, ax=axarr[1][1])"
   ]
  },
  {
   "cell_type": "code",
   "execution_count": 0,
   "metadata": {
    "colab": {},
    "colab_type": "code",
    "id": "z30ww_fycoLR"
   },
   "outputs": [],
   "source": [
    "# Drop the original geography  feature\n",
    "df_bank.drop(['Geography'], axis = 1, inplace = True)"
   ]
  },
  {
   "cell_type": "code",
   "execution_count": 250,
   "metadata": {
    "colab": {
     "base_uri": "https://localhost:8080/",
     "height": 731
    },
    "colab_type": "code",
    "id": "QjnAvlyeNIiK",
    "outputId": "b59bd4d6-d12e-4c02-aeaf-7e274e1aab37"
   },
   "outputs": [
    {
     "data": {
      "text/plain": [
       "<matplotlib.axes._subplots.AxesSubplot at 0x7fd79772c2b0>"
      ]
     },
     "execution_count": 250,
     "metadata": {
      "tags": []
     },
     "output_type": "execute_result"
    },
    {
     "data": {
      "image/png": "[encoded data removed]",
      "text/plain": [
       "<Figure size 1440x864 with 6 Axes>"
      ]
     },
     "metadata": {
      "tags": []
     },
     "output_type": "display_data"
    }
   ],
   "source": [
    "# Relations based on the continuous data attributes\n",
    "    fig, axarr = plt.subplots(3, 2, figsize=(20, 12))\n",
    "    sns.boxplot(y='CreditScore',x = 'Exited', hue = 'Exited',data = df_bank, ax=axarr[0][0])\n",
    "    sns.boxplot(y='Age',x = 'Exited', hue = 'Exited',data = df_bank , ax=axarr[0][1])\n",
    "    sns.boxplot(y='Tenure',x = 'Exited', hue = 'Exited',data = df_bank, ax=axarr[1][0])\n",
    "    sns.boxplot(y='Balance',x = 'Exited', hue = 'Exited',data = df_bank, ax=axarr[1][1])\n",
    "    sns.boxplot(y='NumOfProducts',x = 'Exited', hue = 'Exited',data = df_bank, ax=axarr[2][0])\n",
    "    sns.boxplot(y='EstimatedSalary',x = 'Exited', hue = 'Exited',data = df_bank, ax=axarr[2][1])"
   ]
  },
  {
   "cell_type": "code",
   "execution_count": 251,
   "metadata": {
    "colab": {
     "base_uri": "https://localhost:8080/",
     "height": 297
    },
    "colab_type": "code",
    "id": "w6h5IeU7NIiO",
    "outputId": "64b54775-57a0-4a75-be41-64961f6583f4"
   },
   "outputs": [
    {
     "data": {
      "image/png": "[encoded data removed]",
      "text/plain": [
       "<Figure size 432x288 with 1 Axes>"
      ]
     },
     "metadata": {
      "tags": []
     },
     "output_type": "display_data"
    }
   ],
   "source": [
    "plot_corr_dependent(df_bank, \"Exited\", \"correlation of Customer exited with different factors\")"
   ]
  },
  {
   "cell_type": "code",
   "execution_count": 0,
   "metadata": {
    "colab": {},
    "colab_type": "code",
    "id": "JyE2cHQCNIiR"
   },
   "outputs": [],
   "source": [
    "#histogram analysis and pie analysis (similar to above box plot but gives different angels)\n",
    "\n",
    "plot_pie(cat_cols[2], filename_= \"cat2.html\" )\n",
    "histogram(num_cols[2], filename_ = \"num2.html\")"
   ]
  },
  {
   "cell_type": "markdown",
   "metadata": {
    "colab_type": "text",
    "id": "5Koi4jL5NIjH"
   },
   "source": [
    "# 3. Model Selection\n",
    "First, although I didn't see any strong correlation between some of the features and target variable, I still decided to use a logistic regression at the beginning to evaluate the significance of each factors to the dependent variables. After that I decided to use a ANN with weighted scheme and smote/under sampling to try. to add some model complexity to overcome the underfitting problem. Finally, after select the final ANN model with class weights, I try the K force cross validation.   "
   ]
  },
  {
   "cell_type": "markdown",
   "metadata": {
    "colab_type": "text",
    "id": "pVGl_c7cZSKe"
   },
   "source": [
    "## 3.1 Model library to use"
   ]
  },
  {
   "cell_type": "code",
   "execution_count": 0,
   "metadata": {
    "colab": {},
    "colab_type": "code",
    "id": "AEunaVbiNIjK"
   },
   "outputs": [],
   "source": [
    "class Standardization():\n",
    "    \n",
    "    def __init__(self, X):\n",
    "        self.std = np.std(X, 0)\n",
    "        self.mean = np.mean(X, 0)\n",
    "    \n",
    "    def fit(self, X, eposilon = 1e-4):\n",
    "        X_ = X.copy()\n",
    "        X_ = (X_ - self.mean)/(self.std + eposilon)\n",
    "        return X_\n",
    "\n",
    "class MeanNormalization():\n",
    "    \n",
    "    def __init__(self, X):\n",
    "        self.max = np.max(X, 0)\n",
    "        self.min = np.min(X, 0)\n",
    "        self.mean = np.mean(X, 0)\n",
    "    \n",
    "    def fit(self, X, eposilon = 1e-4):\n",
    "        X_ = X.copy()\n",
    "        X_ = (X_ - self.mean)/(self.max - self.min + eposilon)\n",
    "        return X_\n",
    "\n",
    "class MaxMinNormalization():\n",
    "    \n",
    "    def __init__(self, X):\n",
    "        self.max = np.max(X, 0)\n",
    "        self.min = np.min(X, 0)\n",
    "    \n",
    "    def fit(self, X, eposilon = 1e-4):\n",
    "        X_ = X.copy()\n",
    "        X_ = (X_ - self.min)/(self.max - self.min + eposilon)\n",
    "        return X_"
   ]
  },
  {
   "cell_type": "code",
   "execution_count": 0,
   "metadata": {
    "colab": {},
    "colab_type": "code",
    "id": "4LmkklPeNIjM"
   },
   "outputs": [],
   "source": [
    "# P values for sklearn logistic regression.\n",
    "\n",
    "# Class to display p-values for logistic regression in sklearn.\n",
    "\n",
    "from sklearn import linear_model\n",
    "import scipy.stats as stat\n",
    "\n",
    "class LogisticRegression_with_p_values:\n",
    "    \n",
    "    def __init__(self,*args,**kwargs):#,**kwargs):\n",
    "        self.model = linear_model.LogisticRegression(*args,**kwargs)#,**args)\n",
    "\n",
    "    def fit(self,X,y):\n",
    "        self.model.fit(X,y)\n",
    "        \n",
    "        #### Get p-values for the fitted model ####\n",
    "        denom = (2.0 * (1.0 + np.cosh(self.model.decision_function(X))))\n",
    "        denom = np.tile(denom,(X.shape[1],1)).T\n",
    "        F_ij = np.dot((X / denom).T,X) ## Fisher Information Matrix\n",
    "        Cramer_Rao = np.linalg.inv(F_ij) ## Inverse Information Matrix\n",
    "        sigma_estimates = np.sqrt(np.diagonal(Cramer_Rao))\n",
    "        z_scores = self.model.coef_[0] / sigma_estimates # z-score for eaach model coefficient\n",
    "        p_values = [stat.norm.sf(abs(x)) * 2 for x in z_scores] ### two tailed test for p-values\n",
    "        \n",
    "        self.coef_ = self.model.coef_\n",
    "        self.intercept_ = self.model.intercept_\n",
    "        self.p_values = p_values"
   ]
  },
  {
   "cell_type": "code",
   "execution_count": 0,
   "metadata": {
    "colab": {},
    "colab_type": "code",
    "id": "jVdoBC5haFco"
   },
   "outputs": [],
   "source": [
    "class GenLogisticRegression():\n",
    "\n",
    "  #def _init_(self, thresh=0.5):\n",
    "  #  self.W = None\n",
    "  #  self.B = None\n",
    "\n",
    "  def _init_(self, thresh=0.5):\n",
    "    # self.W = np.random.randn(D,K)\n",
    "    # self.B = np.random.randn(K)\n",
    "    self.W = None\n",
    "    self.B = None\n",
    "\n",
    "  def fit(self, X, y, eta = 2e-2, epochs = 1e3, show_curve = False):\n",
    "    N,D = X.shape\n",
    "    epochs = int(epochs)\n",
    "    K = len(np.unique(y))\n",
    "\n",
    "    #y_values = np.unique(y, return_index = False)\n",
    "    Y = indices_to_one_hot(y,K).astype(int)\n",
    "\n",
    "    try:\n",
    "      self.W\n",
    "    except AttributeError:\n",
    "      self.W = np.random.randn(D,K)\n",
    "      self.B = np.random.randn(K)\n",
    "\n",
    "    J = np.zeros(int(epochs))\n",
    "\n",
    "    for epoch in range(epochs):\n",
    "      P_hat = self._forward_(X)\n",
    "      J[epoch] = cross_entropy(Y,P_hat)\n",
    "      self.W -= eta*(1/N)*X.T@(P_hat-Y)\n",
    "      self.B -= eta*(1/N)*np.sum(P_hat-Y, axis=0)\n",
    "\n",
    "    if show_curve:\n",
    "      plt.figure()\n",
    "      plt.plot(J)\n",
    "      plt.xlabel(\"epochs\")\n",
    "      plt.ylabel(\"J\")\n",
    "      plt.title(\"Training Curve\")\n",
    "      plt.show()\n",
    "\n",
    "  def _forward_(self, X):\n",
    "      return softmax(X@self.W + self.B)\n",
    "\n",
    "  def predict(self,X):\n",
    "      return np.argmax(self._forward_(X),axis=1)"
   ]
  },
  {
   "cell_type": "code",
   "execution_count": 0,
   "metadata": {
    "colab": {},
    "colab_type": "code",
    "id": "S1q-2hC6aLlP"
   },
   "outputs": [],
   "source": [
    "def sigmoid(h, epsilon = 1e-5):\n",
    "    return 1/(1 + np.exp(-h + epsilon))\n",
    "\n",
    "def cross_entropy(y, p_hat, epsilon = 1e-3):\n",
    "    return -(1/len(y)) * np.sum(y * np.log(p_hat + epsilon)\\\n",
    "                                + (1- y) * np.log(1 - p_hat + epsilon))\n",
    "\n",
    "#def cross_entropy(Y, P_hat):\n",
    "#    return -(1/len(Y))*np.sum(np.sum(Y*np.log(P_hat), axis = 1), axis = 0)\n",
    "\n",
    "\n",
    "def weighted_cross_entropy(y, p_hat, eta = 1, epsilon = 1e-3):\n",
    "    pos_w = (1/len(y[y == 1]))*eta\n",
    "    neg_w = 1/len(y[y == 0])\n",
    "    pos = -pos_w*np.sum(y[y == 1] * np.log(p_hat[y == 1] + epsilon)\\\n",
    "                        +(1- y[y == 1]) * np.log(1 - p_hat[y == 1] + epsilon))\n",
    "    neg = -neg_w*np.sum(y[y == 0] * np.log(p_hat[y == 0] + epsilon)\\\n",
    "                        +(1- y[y == 0]) * np.log(1 - p_hat[y == 0] + epsilon))\n",
    "    return pos + neg\n",
    "                               \n",
    "def accuracy(y, y_hat):\n",
    "    return np.mean(y == y_hat)\n",
    "\n",
    "def cost(X, y, model, thresh):\n",
    "    # cost weights\n",
    "    fp = 10\n",
    "    fn = 500\n",
    "    # predict\n",
    "    y_hat_n = model.predict(X[y == 0], thresh = thresh)\n",
    "    y_hat_p = model.predict(X[y == 1], thresh = thresh)\n",
    "    # get cost\n",
    "    cost1 = fp*np.sum(y_hat_n == 1)\n",
    "    cost2 = fn*np.sum(y_hat_p == 0)\n",
    "    return cost1 + cost2\n",
    "\n",
    "def one_hot_encode(y):\n",
    "    N = len(y)\n",
    "    K = len(set(y))\n",
    "    Y = np.zeros((N,K))\n",
    "    \n",
    "    for i in range (N):\n",
    "        Y[i, y[i]] = 1\n",
    "    return Y    \n",
    "\n",
    "def indices_to_one_hot(data, nb_class):\n",
    "    \n",
    "    #coverts on iterable of indices to one hot labels\n",
    "    targets = np.array(data).reshape(-1)\n",
    "    return np.eye(nb_class)[targets]\n",
    "\n",
    "def softmax(h):\n",
    "    \n",
    "    return (np.exp(h.T)/np.sum(np.exp(h), axis =1)).T"
   ]
  },
  {
   "cell_type": "code",
   "execution_count": 0,
   "metadata": {
    "colab": {},
    "colab_type": "code",
    "id": "9NbEO872NIjN"
   },
   "outputs": [],
   "source": [
    "def linear(H):\n",
    "    return H\n",
    "\n",
    "def ReLu(H):\n",
    "    return H*(H>0)\n",
    "\n",
    "def softmax(H):\n",
    "    eH = np.exp(H)\n",
    "    return eH/eH.sum(axis = 1, keepdims = True)\n",
    "\n",
    "def stable_softmax(H):\n",
    "    eH = np.exp(H - np.max(H))\n",
    "    return eH / eH.sum(axis = 1, keepdims = True)\n",
    "    \n",
    "\n",
    "def sigmoid(H):\n",
    "\n",
    "  return 1/(1 + np.exp(-H))\n",
    "\n",
    "\n",
    "# only works for 0 and 1\n",
    "#def cross_entropy (Y, p_hat):\n",
    "#    return -np.sum(Y*np.log(p_hat))\n",
    "# work for general case\n",
    "def cross_entropy(Y, p_hat):\n",
    "  return -(1/len(Y))*np.sum(Y*np.log(p_hat))\n",
    "\n",
    "def one_hot_encode(y):\n",
    "    N = len(y)\n",
    "    K = len(set(y))\n",
    "    Y = np.zeros((N,K))\n",
    "    \n",
    "    for i in range (N):\n",
    "        Y[i, y[i]] = 1\n",
    "    return Y\n",
    "\n",
    "def accuracy (y, y_hat):\n",
    "    return np.mean(y == y_hat)\n",
    "\n",
    "def OLS(Y, Y_hat):\n",
    "    return (1/(2*len(Y)))*np.sum((Y-Y_hat)**2)\n",
    "\n",
    "\n",
    "\n",
    "def weighted_cross_entropy(y, p_hat, epsilon = 1e-3):\n",
    "    pos_w = 1/len(y[y == 1])\n",
    "    neg_w = 1/len(y[y == 0])\n",
    "    pos = -pos_w*np.sum(y[y == 1] * np.log(p_hat[y == 1] + epsilon)\\\n",
    "                        +(1- y[y == 1]) * np.log(1 - p_hat[y == 1] + epsilon))\n",
    "    neg = -neg_w*np.sum(y[y == 0] * np.log(p_hat[y == 0] + epsilon)\\\n",
    "                        +(1- y[y == 0]) * np.log(1 - p_hat[y == 0] + epsilon))\n",
    "    return pos + neg\n",
    "\n",
    "\n",
    "def R2(y, y_hat):\n",
    "    return sqrt((y - y_hat)**2)\n",
    "\n",
    "def derivative(Z, a):\n",
    "  if a == \"linear\":\n",
    "    return 1\n",
    "  elif a == sigmoid :\n",
    "    return Z*(1-Z)\n",
    "  elif a==np.tanh :\n",
    "    return 1 - Z*Z\n",
    "  elif a == ReLu:\n",
    "    return (Z>0).astype(int)\n",
    "  else:\n",
    "    ValueError(\"Unknown activation\")"
   ]
  },
  {
   "cell_type": "code",
   "execution_count": 0,
   "metadata": {
    "colab": {},
    "colab_type": "code",
    "id": "UVZlf6lfahcQ"
   },
   "outputs": [],
   "source": [
    "class ANN():\n",
    "\n",
    "  def __init__(self, architecture, activations = None, mode = 0):\n",
    "    self.mode = mode\n",
    "    self.architecture = architecture\n",
    "    self.L = len( architecture) +1\n",
    "    self.activations = activations\n",
    "\n",
    "  def fit(self, X, y, eta= 1e-3, epochs = 1e3, show_curve = False):\n",
    "    epochs = int(epochs)\n",
    "\n",
    "    if self.mode:\n",
    "      Y = y\n",
    "    else: \n",
    "      Y = one_hot_encode(y)\n",
    "    \n",
    "    N, D = X.shape\n",
    "    K = Y.shape[1]\n",
    "\n",
    "    self.W = {l: np.random.randn(M[0], M[1]) for l, M in enumerate(zip(([D]+self.architecture),(self.architecture + [K])), 1)}\n",
    "        \n",
    "    self.b = {l: np.random.randn(M) for l, M in enumerate(self.architecture + [K], 1)}\n",
    "\n",
    "    if self.activations is None:\n",
    "      self.a = {l: ReLu for l in range(1, self.L)}\n",
    "    else:\n",
    "      self.a = {l: act for l, act in enumerate(self.activations, 1)}\n",
    "\n",
    "    if self.mode:\n",
    "      self.a[self.L] = linear\n",
    "    else:\n",
    "      self.a[self.L] = softmax\n",
    "\n",
    "    J = np.zeros(epochs)\n",
    "\n",
    "    for epoch in range(epochs):\n",
    "      self.forward(X)\n",
    "\n",
    "      if self.mode:\n",
    "        J[epoch] = OLS(Y, self.Z[self.L]) \n",
    "      else:\n",
    "        J[epoch] = weighted_cross_entropy(Y, self.Z[self.L]) \n",
    "                    #cross_entropy(Y, self.Z[self.L])\n",
    "\n",
    "      dH = (1/N)*(self.Z[self.L] - Y)\n",
    "\n",
    "      for l in sorted(self.W.keys(), reverse= True):\n",
    "        dW = self.Z[l-1].T @ dH\n",
    "        db = dH.sum(axis = 0)\n",
    "        \n",
    "        self.W[l] -= eta*dW\n",
    "        self.b[l] -= eta*db\n",
    "\n",
    "        if l>1:\n",
    "          dZ = dH@(self.W[l]).T\n",
    "          dH = dZ*derivative(self.Z[l-1], self.a[l-1])\n",
    "       \n",
    "       # print out J errors every 100 iterations\n",
    "      if epoch % 100 == 0:\n",
    "          print ( epoch, J[epoch])\n",
    "\n",
    "          #print (\"Epoch:{}\".format(epoch))\n",
    "          #print (\"Train Error: {:.4f}\".format(dH) )\n",
    "          #print('Epoch:{}, train error: {:.4f} '.format(epoch , dH))\n",
    "    if show_curve:\n",
    "      plt.figure()\n",
    "      plt.plot(J)\n",
    "      plt.xlabel(\"epochs\")\n",
    "      plt.ylabel(\"Loss function\")\n",
    "      plt.show\n",
    "\n",
    "\n",
    "  def forward(self, X):\n",
    "    \n",
    "    self.Z ={0:X}\n",
    "\n",
    "    for l in sorted(self.W.keys()):\n",
    "      self.Z[l] = self.a[l](self.Z[l-1]@self.W[l]+ self.b[l] )\n",
    "  \n",
    "  def predict(self, X):\n",
    "\n",
    "    self.forward(X)\n",
    "\n",
    "    if self.mode:\n",
    "      return self.Z[self.L]\n",
    "    else:\n",
    "      return self.Z[self.L].argmax(axis = 1)"
   ]
  },
  {
   "cell_type": "code",
   "execution_count": 0,
   "metadata": {
    "colab": {},
    "colab_type": "code",
    "id": "lHrwefZ5NIjQ"
   },
   "outputs": [],
   "source": [
    "'''Basic Logistic Regression'''\n",
    "\n",
    "class LogisticRegression():\n",
    "    \n",
    "    def __init__(self, size):\n",
    "        self.w = np.random.randn(size)\n",
    "        self.b = np.random.randn(1)\n",
    "    \n",
    "    def fit(self, X_trn, y_trn,\n",
    "            X_val, y_val,\n",
    "            lr = 1e-1, epochs = 1e3,\n",
    "            show_curve = False):\n",
    "        \n",
    "        epochs = int(epochs)\n",
    "        N, D = X_trn.shape\n",
    "        \n",
    "        J_trn = np.zeros(epochs) # train loss\n",
    "        J_val = np.zeros(epochs) # validation loss\n",
    "        \n",
    "        for epoch in range(epochs): # start to train\n",
    "            # get probability\n",
    "            p_hat = self.__forward(X_trn)\n",
    "            # record training process\n",
    "            J_trn[epoch] = cross_entropy(y_trn, p_hat)\n",
    "            J_val[epoch] = cross_entropy(y_val, self.__forward(X_val))\n",
    "            # weights update    \n",
    "            self.w -= lr*(1/N)*X_trn.T@(p_hat - y_trn)\n",
    "            self.b -= lr*(1/N)*np.sum(p_hat - y_trn)\n",
    "            # print progress\n",
    "            if epoch % 250 == 0:\n",
    "                print('Epoch: {}, train error: {:.4f}, valid error: {:.4f}'.\\\n",
    "                      format(epoch, J_trn[epoch], J_val[epoch]))\n",
    "        # plot curve\n",
    "        if show_curve:\n",
    "            plt.figure(figsize = (15, 6))\n",
    "            # train plot\n",
    "            plt.subplot(121); plt.plot(J_trn)\n",
    "            plt.xlabel('epochs'); plt.ylabel('$\\mathcal{J}$')\n",
    "            plt.title('Training Curve', fontsize = 15)\n",
    "            # valid plot\n",
    "            plt.subplot(122); plt.plot(J_val)\n",
    "            plt.xlabel('epochs'); plt.ylabel('$\\mathcal{J}$')\n",
    "            plt.title('Validation Curve', fontsize = 15)\n",
    "        # return training process\n",
    "        return {'J_trn': J_trn, 'J_val': J_val}\n",
    "    \n",
    "    def __forward(self, X):\n",
    "        return sigmoid(X@self.w + self.b)\n",
    "        \n",
    "    def predict(self, X, thresh = 0.5):\n",
    "        return (self.__forward(X) >= thresh).astype(np.int32)\n",
    "\n",
    "\n"
   ]
  },
  {
   "cell_type": "code",
   "execution_count": 0,
   "metadata": {
    "colab": {},
    "colab_type": "code",
    "id": "zNomD71fbMPg"
   },
   "outputs": [],
   "source": [
    "class WeightedLogisticRegression(LogisticRegression):\n",
    "    '''Weighted Logistic Regression'''\n",
    "    # Assume positive: minority dataset\n",
    "    #        negative: majority dataset\n",
    "    # Weight more on positive dataset\n",
    "    # eta: control positive cases learning weights\n",
    "    #      1 is the default, < 1 reduce the weights, > 1 increase the weights\n",
    "    \n",
    "    def fit(self, X_trn, y_trn,\n",
    "            X_val, y_val,\n",
    "            eta = 1,                 # weight for positive dataset\n",
    "            lr = 1e-1, epochs = 1e3,\n",
    "            show_curve = False):\n",
    "        \n",
    "        epochs = int(epochs)\n",
    "        N, D = X_trn.shape\n",
    "        \n",
    "        J_trn = np.zeros(epochs) # train loss\n",
    "        J_val = np.zeros(epochs) # validation loss\n",
    "\n",
    "        for epoch in range(epochs): # start to train\n",
    "            # get probability for cross entropy\n",
    "            p_hat = self.__forward(X_trn)\n",
    "            # record training process\n",
    "            J_trn[epoch] = weighted_cross_entropy(y_trn, p_hat, eta = eta)\n",
    "            J_val[epoch] = weighted_cross_entropy(y_val, self.__forward(X_val), eta = eta)\n",
    "            # weights update\n",
    "            self.w -= lr*(eta*(1/len(y_trn[y_trn == 1]))*X_trn[y_trn == 1].T@(p_hat[y_trn == 1] - y_trn[y_trn == 1])+\\\n",
    "                          (1/len(y_trn[y_trn == 0]))*X_trn[y_trn == 0].T@(p_hat[y_trn == 0] - y_trn[y_trn == 0]))\n",
    "            \n",
    "            self.b -= lr*(eta*(1/len(y_trn[y_trn == 1]))*np.sum(p_hat[y_trn == 1] - y_trn[y_trn == 1])+\\\n",
    "                          (1/len(y_trn[y_trn == 0]))*np.sum(p_hat[y_trn == 0] - y_trn[y_trn == 0]))\n",
    "            # print progress\n",
    "            if epoch % 250 == 0:\n",
    "                print('Epoch: {}, train error: {:.4f}, validation error: {:.4f}'.\\\n",
    "                      format(epoch, J_trn[epoch], J_val[epoch]))\n",
    "        # plot curve\n",
    "        if show_curve:\n",
    "            plt.figure(figsize = (15, 6))\n",
    "            # train plot\n",
    "            plt.subplot(121); plt.plot(J_trn)\n",
    "            plt.xlabel('epochs'); plt.ylabel('$\\mathcal{J}$')\n",
    "            plt.title('Training Curve', fontsize = 15)\n",
    "            # valid plot\n",
    "            plt.subplot(122); plt.plot(J_val)\n",
    "            plt.xlabel('epochs'); plt.ylabel('$\\mathcal{J}$')\n",
    "            plt.title('Validation Curve', fontsize = 15)\n",
    "        # return training process\n",
    "        return {'J_trn': J_trn, 'J_val': J_val}\n",
    "    \n",
    "    def __forward(self, X):\n",
    "        return sigmoid(X@self.w + self.b)\n",
    "\n",
    "           "
   ]
  },
  {
   "cell_type": "code",
   "execution_count": 0,
   "metadata": {
    "colab": {},
    "colab_type": "code",
    "id": "gouEt-CLNIjT"
   },
   "outputs": [],
   "source": [
    "\n",
    "''' Assistant Functions '''\n",
    "\n",
    "def weighted_cross_entropy(y, p_hat, eta = 1, epsilon = 1e-3):\n",
    "    pos_w = (1/len(y[y == 1]))*eta\n",
    "    neg_w = 1/len(y[y == 0])\n",
    "    pos = -pos_w*np.sum(y[y == 1] * np.log(p_hat[y == 1] + epsilon)\\\n",
    "                        +(1- y[y == 1]) * np.log(1 - p_hat[y == 1] + epsilon))\n",
    "    neg = -neg_w*np.sum(y[y == 0] * np.log(p_hat[y == 0] + epsilon)\\\n",
    "                        +(1- y[y == 0]) * np.log(1 - p_hat[y == 0] + epsilon))\n",
    "    return pos + neg    \n",
    "\n",
    "    "
   ]
  },
  {
   "cell_type": "code",
   "execution_count": 0,
   "metadata": {
    "colab": {},
    "colab_type": "code",
    "id": "3PPRdwwxcIAQ"
   },
   "outputs": [],
   "source": [
    "y = df_bank.iloc[:,12].values\n",
    "df_bank.drop([\"Exited\"], axis =1, inplace=True)\n",
    "X = df_bank.iloc[:,1:].values"
   ]
  },
  {
   "cell_type": "code",
   "execution_count": 0,
   "metadata": {
    "colab": {},
    "colab_type": "code",
    "id": "Yj3FCk1qNIja"
   },
   "outputs": [],
   "source": [
    "# Splitting the dataset into the Training set and Test set\n",
    "from sklearn.model_selection import train_test_split\n",
    "# Normalized\n",
    "X_train, X_test, y_train, y_test = train_test_split(X, y, test_size = 0.2, random_state = 0)\n",
    "# Feature Scaling\n",
    "from sklearn.preprocessing import StandardScaler\n",
    "sc = StandardScaler()\n",
    "X_train = sc.fit_transform(X_train)\n",
    "X_test = sc.transform(X_test)"
   ]
  },
  {
   "cell_type": "code",
   "execution_count": 0,
   "metadata": {
    "colab": {},
    "colab_type": "code",
    "id": "mjPlH4BrNIjc"
   },
   "outputs": [],
   "source": []
  },
  {
   "cell_type": "code",
   "execution_count": 0,
   "metadata": {
    "colab": {},
    "colab_type": "code",
    "id": "qSPgFfF0NIjf"
   },
   "outputs": [],
   "source": []
  },
  {
   "cell_type": "markdown",
   "metadata": {
    "colab_type": "text",
    "id": "idfRMjGXNIjg"
   },
   "source": [
    "### 3.1. Logistic Regression w/o p value and Smote"
   ]
  },
  {
   "cell_type": "code",
   "execution_count": 214,
   "metadata": {
    "colab": {
     "base_uri": "https://localhost:8080/",
     "height": 421
    },
    "colab_type": "code",
    "id": "7Veef54mNIjh",
    "outputId": "69f3e6bc-ceb3-4b67-d2c4-df20816edf51"
   },
   "outputs": [
    {
     "data": {
      "text/html": [
       "<div>\n",
       "<style scoped>\n",
       "    .dataframe tbody tr th:only-of-type {\n",
       "        vertical-align: middle;\n",
       "    }\n",
       "\n",
       "    .dataframe tbody tr th {\n",
       "        vertical-align: top;\n",
       "    }\n",
       "\n",
       "    .dataframe thead th {\n",
       "        text-align: right;\n",
       "    }\n",
       "</style>\n",
       "<table border=\"1\" class=\"dataframe\">\n",
       "  <thead>\n",
       "    <tr style=\"text-align: right;\">\n",
       "      <th></th>\n",
       "      <th>features</th>\n",
       "      <th>Coefficients</th>\n",
       "      <th>p_values</th>\n",
       "    </tr>\n",
       "  </thead>\n",
       "  <tbody>\n",
       "    <tr>\n",
       "      <th>0</th>\n",
       "      <td>Intercept</td>\n",
       "      <td>-0.000192</td>\n",
       "      <td>1.820036e-03</td>\n",
       "    </tr>\n",
       "    <tr>\n",
       "      <th>1</th>\n",
       "      <td>geo:Germany</td>\n",
       "      <td>0.000949</td>\n",
       "      <td>NaN</td>\n",
       "    </tr>\n",
       "    <tr>\n",
       "      <th>2</th>\n",
       "      <td>geo:Spain</td>\n",
       "      <td>-0.000335</td>\n",
       "      <td>9.884984e-01</td>\n",
       "    </tr>\n",
       "    <tr>\n",
       "      <th>3</th>\n",
       "      <td>CreditScore</td>\n",
       "      <td>-0.005037</td>\n",
       "      <td>9.957912e-01</td>\n",
       "    </tr>\n",
       "    <tr>\n",
       "      <th>4</th>\n",
       "      <td>Gender</td>\n",
       "      <td>-0.001886</td>\n",
       "      <td>3.803154e-159</td>\n",
       "    </tr>\n",
       "    <tr>\n",
       "      <th>5</th>\n",
       "      <td>Age</td>\n",
       "      <td>0.043826</td>\n",
       "      <td>9.413605e-01</td>\n",
       "    </tr>\n",
       "    <tr>\n",
       "      <th>6</th>\n",
       "      <td>Tenure</td>\n",
       "      <td>-0.001592</td>\n",
       "      <td>1.720691e-91</td>\n",
       "    </tr>\n",
       "    <tr>\n",
       "      <th>7</th>\n",
       "      <td>Balance</td>\n",
       "      <td>0.000004</td>\n",
       "      <td>8.540345e-01</td>\n",
       "    </tr>\n",
       "    <tr>\n",
       "      <th>8</th>\n",
       "      <td>NumOfProducts</td>\n",
       "      <td>-0.000446</td>\n",
       "      <td>2.922748e-15</td>\n",
       "    </tr>\n",
       "    <tr>\n",
       "      <th>9</th>\n",
       "      <td>HasCrCard</td>\n",
       "      <td>-0.000187</td>\n",
       "      <td>9.916097e-01</td>\n",
       "    </tr>\n",
       "    <tr>\n",
       "      <th>10</th>\n",
       "      <td>IsActiveMember</td>\n",
       "      <td>-0.001418</td>\n",
       "      <td>9.972853e-01</td>\n",
       "    </tr>\n",
       "    <tr>\n",
       "      <th>11</th>\n",
       "      <td>EstimatedSalary</td>\n",
       "      <td>-0.000001</td>\n",
       "      <td>9.780168e-01</td>\n",
       "    </tr>\n",
       "  </tbody>\n",
       "</table>\n",
       "</div>"
      ],
      "text/plain": [
       "           features  Coefficients       p_values\n",
       "0         Intercept     -0.000192   1.820036e-03\n",
       "1       geo:Germany      0.000949            NaN\n",
       "2         geo:Spain     -0.000335   9.884984e-01\n",
       "3       CreditScore     -0.005037   9.957912e-01\n",
       "4            Gender     -0.001886  3.803154e-159\n",
       "5               Age      0.043826   9.413605e-01\n",
       "6            Tenure     -0.001592   1.720691e-91\n",
       "7           Balance      0.000004   8.540345e-01\n",
       "8     NumOfProducts     -0.000446   2.922748e-15\n",
       "9         HasCrCard     -0.000187   9.916097e-01\n",
       "10   IsActiveMember     -0.001418   9.972853e-01\n",
       "11  EstimatedSalary     -0.000001   9.780168e-01"
      ]
     },
     "execution_count": 214,
     "metadata": {
      "tags": []
     },
     "output_type": "execute_result"
    }
   ],
   "source": [
    "# logistic regression with p values to see significance of different factors\n",
    "feature_name = df_bank.columns.values[1:]\n",
    "reg = LogisticRegression_with_p_values()\n",
    "# We create an instance of an object from the newly created 'LogisticRegression_with_p_values()' class.\n",
    "reg.fit(X, y)\n",
    "\n",
    "# Same as above.\n",
    "summary_table = pd.DataFrame(columns= ['features'] , data = feature_name)\n",
    "summary_table['Coefficients'] = np.transpose(reg.coef_)\n",
    "summary_table.index = summary_table.index + 1\n",
    "summary_table.loc[0] = ['Intercept', reg.intercept_[0]]\n",
    "p_values = reg.p_values\n",
    "\n",
    "p_values = np.append(np.nan, np.array(p_values))\n",
    "summary_table['p_values'] = p_values\n",
    "summary_table = summary_table.sort_index()\n",
    "summary_table\n",
    "# This is a list.\n",
    "\n"
   ]
  },
  {
   "cell_type": "code",
   "execution_count": 215,
   "metadata": {
    "colab": {
     "base_uri": "https://localhost:8080/",
     "height": 312
    },
    "colab_type": "code",
    "id": "TCQJTYMZNIjj",
    "outputId": "3c1434ca-1861-46db-9350-171d7bb32677"
   },
   "outputs": [
    {
     "data": {
      "image/png": "[encoded data removed]",
      "text/plain": [
       "<Figure size 432x288 with 1 Axes>"
      ]
     },
     "metadata": {
      "tags": []
     },
     "output_type": "display_data"
    },
    {
     "data": {
      "text/plain": [
       "0.811"
      ]
     },
     "execution_count": 215,
     "metadata": {
      "tags": []
     },
     "output_type": "execute_result"
    }
   ],
   "source": [
    "# Fit the model\n",
    "# Initialize a generalized Logistic regression Model\n",
    "reg = GenLogisticRegression()\n",
    "\n",
    "reg.fit(X_train, y_train, eta = 0.01, epochs = 5000, show_curve=True)\n",
    "y_hat = reg.predict(X_test)\n",
    "accuracy(y_test, y_hat)\n"
   ]
  },
  {
   "cell_type": "code",
   "execution_count": 218,
   "metadata": {
    "colab": {
     "base_uri": "https://localhost:8080/",
     "height": 51
    },
    "colab_type": "code",
    "id": "RMrxDHgINIjn",
    "outputId": "d928f081-e986-4230-fe65-21a01e219016"
   },
   "outputs": [
    {
     "data": {
      "text/plain": [
       "array([[1526,   69],\n",
       "       [ 309,   96]])"
      ]
     },
     "execution_count": 218,
     "metadata": {
      "tags": []
     },
     "output_type": "execute_result"
    }
   ],
   "source": [
    "from sklearn.metrics import confusion_matrix\n",
    "cm = confusion_matrix(y_test, y_hat)\n",
    "cm"
   ]
  },
  {
   "cell_type": "code",
   "execution_count": 220,
   "metadata": {
    "colab": {
     "base_uri": "https://localhost:8080/",
     "height": 51
    },
    "colab_type": "code",
    "id": "Ho7VaCIsNIjo",
    "outputId": "636646a3-0a7d-418b-bcaa-b675dbf1f306"
   },
   "outputs": [
    {
     "name": "stdout",
     "output_type": "stream",
     "text": [
      "train accuray: 0.80825\n",
      "test accuracy : 0.811\n"
     ]
    }
   ],
   "source": [
    "# Logistic regression from generalized logistic with SMOTE\n",
    "\n",
    "from imblearn.over_sampling import SMOTE\n",
    "\n",
    "reg = GenLogisticRegression()\n",
    "\n",
    "reg.fit(X_train, y_train)\n",
    "y_hat = reg.predict(X_test)\n",
    "\n",
    "weights = reg.W\n",
    "intercept = reg.B\n",
    "\n",
    "for i in range(5):\n",
    "  reg_ = GenLogisticRegression()\n",
    "  reg_.W = weights\n",
    "  reg_.B = intercept\n",
    "  smt = SMOTE()\n",
    "  X_train_, y_train_ = smt.fit_resample(X_train, y_train)\n",
    "  \n",
    "  reg_.fit(X_train_, y_train_, eta = 0.001, epochs = 10)\n",
    "\n",
    "\n",
    "  weights = reg_.W\n",
    "  intercept = reg_.B\n",
    "\n",
    "y_hat = reg_.predict(X_train)\n",
    "y_hat_test = reg_.predict(X_test)\n",
    "print (\"train accuray:\", np.mean(y_train == y_hat))\n",
    "print (\"test accuracy :\",  np.mean(y_test == y_hat_test))"
   ]
  },
  {
   "cell_type": "code",
   "execution_count": 222,
   "metadata": {
    "colab": {
     "base_uri": "https://localhost:8080/",
     "height": 51
    },
    "colab_type": "code",
    "id": "SjCGf6kvNIjp",
    "outputId": "0a0e911b-c305-4598-d939-fe4952682ec1"
   },
   "outputs": [
    {
     "data": {
      "text/plain": [
       "array([[1521,   74],\n",
       "       [ 304,  101]])"
      ]
     },
     "execution_count": 222,
     "metadata": {
      "tags": []
     },
     "output_type": "execute_result"
    }
   ],
   "source": [
    "from sklearn.metrics import confusion_matrix\n",
    "cm = confusion_matrix(y_test, y_hat_test)\n",
    "cm"
   ]
  },
  {
   "cell_type": "markdown",
   "metadata": {
    "colab_type": "text",
    "id": "d05coUnwNIjr"
   },
   "source": [
    "### 3.2. ANN with Smote and class weights"
   ]
  },
  {
   "cell_type": "code",
   "execution_count": 257,
   "metadata": {
    "colab": {
     "base_uri": "https://localhost:8080/",
     "height": 636
    },
    "colab_type": "code",
    "id": "Kw64dCKoNIjr",
    "outputId": "742ee1c0-25df-4bb3-e039-12eebc7d8d9f"
   },
   "outputs": [
    {
     "name": "stdout",
     "output_type": "stream",
     "text": [
      "0 2.7669253524822555\n",
      "100 1.372990670008161\n",
      "200 1.1154159895771818\n",
      "300 1.0395239473514675\n",
      "400 1.0103734780814266\n",
      "500 0.9948830566043838\n",
      "600 0.9847661161060873\n",
      "700 0.9769789999759101\n",
      "800 0.9703753420614231\n",
      "900 0.9644761964144508\n",
      "1000 0.9590386848246788\n",
      "1100 0.9539244258935943\n",
      "1200 0.9490933352343266\n",
      "1300 0.9445497064713798\n",
      "1400 0.9401945363789387\n",
      "1500 0.9357905839590019\n",
      "1600 0.9313424843699064\n",
      "1700 0.9273469763303165\n",
      "1800 0.9237936243898016\n",
      "1900 0.9206046053939543\n",
      "Training Accuracy:  0.8115\n"
     ]
    },
    {
     "data": {
      "image/png": "[encoded data removed]",
      "text/plain": [
       "<Figure size 432x288 with 1 Axes>"
      ]
     },
     "metadata": {
      "tags": []
     },
     "output_type": "display_data"
    }
   ],
   "source": [
    "from imblearn.under_sampling import NearMiss\n",
    "#nr = NearMiss()\n",
    "#X_train_, y_train_ = nr.fit_sample(X_train, y_train)\n",
    "\n",
    "ann = ANN([6,6,6 ], [np.tanh, np.tanh, np.tanh ] )\n",
    "ann.fit(X_train, y_train, eta = 0.02, epochs = 2000, show_curve = True)\n",
    "    \n",
    "y_hat = ann.predict(X_test)\n",
    "    \n",
    "print(f\"Training Accuracy: {accuracy(y_test, y_hat): 0.4f}\")"
   ]
  },
  {
   "cell_type": "code",
   "execution_count": 0,
   "metadata": {
    "colab": {},
    "colab_type": "code",
    "id": "eyjykDTmNIjv"
   },
   "outputs": [],
   "source": [
    "# ANN with keep learning from previous runs with nearMiss or SMOTE every time (adding noise)\n",
    "\n",
    "from imblearn.over_sampling import SMOTE\n",
    "\n",
    "#reg = GenLogisticRegression()\n",
    "\n",
    "#reg.fit(X_train, y_train)\n",
    "#y_hat = reg.predict(test_X)\n",
    "from imblearn.under_sampling import NearMiss\n",
    "nr = NearMiss()\n",
    "X_train_, y_train_ = nr.fit_sample(X_train, y_train)\n",
    "ann = ANN([30,30,30, 30], [np.tanh, np.tanh, np.tanh, np.tanh] )\n",
    "ann.fit(X_train, y_train, eta = 0.01, epochs = 500, show_curve = True)\n",
    "\n",
    "weights = ann.W\n",
    "w0 = ann.b\n",
    "\n",
    "for i in range(50):\n",
    "  ann_ = ANN([30 ,30,30, 30], [np.tanh, np.tanh, np.tanh, np.tanh])\n",
    "\n",
    "  ann_.W = weights\n",
    "  ann_.b = w0 \n",
    "  #smt = SMOTE(random_state= i)\n",
    "  nr = NearMiss(random_state=i)\n",
    "  X_train_, y_train_ = nr.fit_sample(X_train, y_train)\n",
    "  #X_train_, y_train_ = smt.fit_resample(X_train, y_train)\n",
    "  \n",
    "  ann_.fit(X_train_, y_train_, eta = 0.1, epochs = 1000)\n",
    "\n",
    "  y_hat = ann_.predict(X_train)\n",
    "  y_hat_test = ann_.predict(X_test)\n",
    "  print (\"train accuray:\", np.mean(y_train == y_hat))\n",
    "  print (\"test accuracy :\",  np.mean(y_test == y_hat_test))\n",
    "  weights = ann_.W\n",
    "  w0 = ann_.b\n",
    "\n",
    "#y_hat = reg_.predict(X_train)\n",
    "#y_hat_test = reg_.predict(X_test)\n",
    "#print (\"train accuray:\", np.mean(y_train == y_hat))\n",
    "#print (\"test accuracy :\",  np.mean(y_test == y_hat_test))"
   ]
  },
  {
   "cell_type": "code",
   "execution_count": 0,
   "metadata": {
    "colab": {},
    "colab_type": "code",
    "id": "UHTCWAmfNIjz"
   },
   "outputs": [],
   "source": []
  },
  {
   "cell_type": "markdown",
   "metadata": {
    "colab_type": "text",
    "id": "u-jlZWxVhAm7"
   },
   "source": [
    "ANN with SMOTE\n"
   ]
  },
  {
   "cell_type": "code",
   "execution_count": 258,
   "metadata": {
    "colab": {
     "base_uri": "https://localhost:8080/",
     "height": 80
    },
    "colab_type": "code",
    "id": "iho7udADNIj1",
    "outputId": "b84b1a27-4d66-449a-bf86-982768017bcb"
   },
   "outputs": [
    {
     "name": "stderr",
     "output_type": "stream",
     "text": [
      "Using TensorFlow backend.\n"
     ]
    },
    {
     "data": {
      "text/html": [
       "<p style=\"color: red;\">\n",
       "The default version of TensorFlow in Colab will soon switch to TensorFlow 2.x.<br>\n",
       "We recommend you <a href=\"https://www.tensorflow.org/guide/migrate\" target=\"_blank\">upgrade</a> now \n",
       "or ensure your notebook will continue to use TensorFlow 1.x via the <code>%tensorflow_version 1.x</code> magic:\n",
       "<a href=\"https://colab.research.google.com/notebooks/tensorflow_version.ipynb\" target=\"_blank\">more info</a>.</p>\n"
      ],
      "text/plain": [
       "<IPython.core.display.HTML object>"
      ]
     },
     "metadata": {
      "tags": []
     },
     "output_type": "display_data"
    }
   ],
   "source": [
    "# Importing the Keras libraries and packages\n",
    "import keras\n",
    "from keras.models import Sequential\n",
    "from keras.layers import Dense\n",
    "from keras.layers import Dropout"
   ]
  },
  {
   "cell_type": "code",
   "execution_count": 259,
   "metadata": {
    "colab": {
     "base_uri": "https://localhost:8080/",
     "height": 71
    },
    "colab_type": "code",
    "id": "MNXhgxhiNIj2",
    "outputId": "b85110c0-904c-4466-fa92-2d089de7cea0"
   },
   "outputs": [
    {
     "name": "stdout",
     "output_type": "stream",
     "text": [
      "WARNING:tensorflow:From /usr/local/lib/python3.6/dist-packages/keras/backend/tensorflow_backend.py:66: The name tf.get_default_graph is deprecated. Please use tf.compat.v1.get_default_graph instead.\n",
      "\n"
     ]
    }
   ],
   "source": [
    "class_weight = {0: 1.,\n",
    "                1: 1.3\n",
    "                }\n",
    "\n",
    "# Initialising the ANN\n",
    "classifier = Sequential()"
   ]
  },
  {
   "cell_type": "code",
   "execution_count": 260,
   "metadata": {
    "colab": {
     "base_uri": "https://localhost:8080/",
     "height": 1000
    },
    "colab_type": "code",
    "id": "ho8wLQpqNIj4",
    "outputId": "cb84d59d-dc93-42e6-cb84-d2f8f9d5ae19"
   },
   "outputs": [
    {
     "name": "stdout",
     "output_type": "stream",
     "text": [
      "WARNING:tensorflow:From /usr/local/lib/python3.6/dist-packages/keras/backend/tensorflow_backend.py:541: The name tf.placeholder is deprecated. Please use tf.compat.v1.placeholder instead.\n",
      "\n",
      "WARNING:tensorflow:From /usr/local/lib/python3.6/dist-packages/keras/backend/tensorflow_backend.py:4432: The name tf.random_uniform is deprecated. Please use tf.random.uniform instead.\n",
      "\n",
      "WARNING:tensorflow:From /usr/local/lib/python3.6/dist-packages/keras/optimizers.py:793: The name tf.train.Optimizer is deprecated. Please use tf.compat.v1.train.Optimizer instead.\n",
      "\n",
      "WARNING:tensorflow:From /usr/local/lib/python3.6/dist-packages/keras/backend/tensorflow_backend.py:3657: The name tf.log is deprecated. Please use tf.math.log instead.\n",
      "\n",
      "WARNING:tensorflow:From /tensorflow-1.15.0/python3.6/tensorflow_core/python/ops/nn_impl.py:183: where (from tensorflow.python.ops.array_ops) is deprecated and will be removed in a future version.\n",
      "Instructions for updating:\n",
      "Use tf.where in 2.0, which has the same broadcast rule as np.where\n",
      "WARNING:tensorflow:From /usr/local/lib/python3.6/dist-packages/keras/backend/tensorflow_backend.py:1033: The name tf.assign_add is deprecated. Please use tf.compat.v1.assign_add instead.\n",
      "\n",
      "WARNING:tensorflow:From /usr/local/lib/python3.6/dist-packages/keras/backend/tensorflow_backend.py:1020: The name tf.assign is deprecated. Please use tf.compat.v1.assign instead.\n",
      "\n",
      "WARNING:tensorflow:From /usr/local/lib/python3.6/dist-packages/keras/backend/tensorflow_backend.py:3005: The name tf.Session is deprecated. Please use tf.compat.v1.Session instead.\n",
      "\n",
      "Epoch 1/100\n",
      "WARNING:tensorflow:From /usr/local/lib/python3.6/dist-packages/keras/backend/tensorflow_backend.py:190: The name tf.get_default_session is deprecated. Please use tf.compat.v1.get_default_session instead.\n",
      "\n",
      "WARNING:tensorflow:From /usr/local/lib/python3.6/dist-packages/keras/backend/tensorflow_backend.py:197: The name tf.ConfigProto is deprecated. Please use tf.compat.v1.ConfigProto instead.\n",
      "\n",
      "WARNING:tensorflow:From /usr/local/lib/python3.6/dist-packages/keras/backend/tensorflow_backend.py:207: The name tf.global_variables is deprecated. Please use tf.compat.v1.global_variables instead.\n",
      "\n",
      "WARNING:tensorflow:From /usr/local/lib/python3.6/dist-packages/keras/backend/tensorflow_backend.py:216: The name tf.is_variable_initialized is deprecated. Please use tf.compat.v1.is_variable_initialized instead.\n",
      "\n",
      "WARNING:tensorflow:From /usr/local/lib/python3.6/dist-packages/keras/backend/tensorflow_backend.py:223: The name tf.variables_initializer is deprecated. Please use tf.compat.v1.variables_initializer instead.\n",
      "\n",
      "8000/8000 [==============================] - 2s 200us/step - loss: 0.5471 - acc: 0.8065\n",
      "Epoch 2/100\n",
      "8000/8000 [==============================] - 1s 121us/step - loss: 0.5084 - acc: 0.8044\n",
      "Epoch 3/100\n",
      "8000/8000 [==============================] - 1s 125us/step - loss: 0.5070 - acc: 0.8066\n",
      "Epoch 4/100\n",
      "8000/8000 [==============================] - 1s 125us/step - loss: 0.5057 - acc: 0.8049\n",
      "Epoch 5/100\n",
      "8000/8000 [==============================] - 1s 119us/step - loss: 0.5017 - acc: 0.8074\n",
      "Epoch 6/100\n",
      "8000/8000 [==============================] - 1s 122us/step - loss: 0.4934 - acc: 0.8111\n",
      "Epoch 7/100\n",
      "8000/8000 [==============================] - 1s 121us/step - loss: 0.4798 - acc: 0.8235\n",
      "Epoch 8/100\n",
      "8000/8000 [==============================] - 1s 119us/step - loss: 0.4610 - acc: 0.8320\n",
      "Epoch 9/100\n",
      "8000/8000 [==============================] - 1s 123us/step - loss: 0.4425 - acc: 0.8442\n",
      "Epoch 10/100\n",
      "8000/8000 [==============================] - 1s 124us/step - loss: 0.4279 - acc: 0.8482\n",
      "Epoch 11/100\n",
      "8000/8000 [==============================] - 1s 123us/step - loss: 0.4192 - acc: 0.8545\n",
      "Epoch 12/100\n",
      "8000/8000 [==============================] - 1s 126us/step - loss: 0.4137 - acc: 0.8567\n",
      "Epoch 13/100\n",
      "8000/8000 [==============================] - 1s 136us/step - loss: 0.4115 - acc: 0.8535\n",
      "Epoch 14/100\n",
      "8000/8000 [==============================] - 1s 118us/step - loss: 0.4098 - acc: 0.8544\n",
      "Epoch 15/100\n",
      "8000/8000 [==============================] - 1s 125us/step - loss: 0.4092 - acc: 0.8554\n",
      "Epoch 16/100\n",
      "8000/8000 [==============================] - 1s 122us/step - loss: 0.4072 - acc: 0.8557\n",
      "Epoch 17/100\n",
      "8000/8000 [==============================] - 1s 126us/step - loss: 0.4071 - acc: 0.8574\n",
      "Epoch 18/100\n",
      "8000/8000 [==============================] - 1s 119us/step - loss: 0.4061 - acc: 0.8585\n",
      "Epoch 19/100\n",
      "8000/8000 [==============================] - 1s 122us/step - loss: 0.4062 - acc: 0.8555\n",
      "Epoch 20/100\n",
      "8000/8000 [==============================] - 1s 126us/step - loss: 0.4057 - acc: 0.8586\n",
      "Epoch 21/100\n",
      "8000/8000 [==============================] - 1s 124us/step - loss: 0.4047 - acc: 0.8570\n",
      "Epoch 22/100\n",
      "8000/8000 [==============================] - 1s 121us/step - loss: 0.4042 - acc: 0.8569\n",
      "Epoch 23/100\n",
      "8000/8000 [==============================] - 1s 129us/step - loss: 0.4047 - acc: 0.8544\n",
      "Epoch 24/100\n",
      "8000/8000 [==============================] - 1s 123us/step - loss: 0.4041 - acc: 0.8564\n",
      "Epoch 25/100\n",
      "8000/8000 [==============================] - 1s 120us/step - loss: 0.4018 - acc: 0.8577\n",
      "Epoch 26/100\n",
      "8000/8000 [==============================] - 1s 122us/step - loss: 0.4033 - acc: 0.8555\n",
      "Epoch 27/100\n",
      "8000/8000 [==============================] - 1s 135us/step - loss: 0.4018 - acc: 0.8580\n",
      "Epoch 28/100\n",
      "8000/8000 [==============================] - 1s 133us/step - loss: 0.4020 - acc: 0.8555\n",
      "Epoch 29/100\n",
      "8000/8000 [==============================] - 1s 125us/step - loss: 0.4014 - acc: 0.8582\n",
      "Epoch 30/100\n",
      "8000/8000 [==============================] - 1s 124us/step - loss: 0.4013 - acc: 0.8571\n",
      "Epoch 31/100\n",
      "8000/8000 [==============================] - 1s 120us/step - loss: 0.4015 - acc: 0.8547\n",
      "Epoch 32/100\n",
      "8000/8000 [==============================] - 1s 127us/step - loss: 0.4013 - acc: 0.8569\n",
      "Epoch 33/100\n",
      "8000/8000 [==============================] - 1s 123us/step - loss: 0.4000 - acc: 0.8565\n",
      "Epoch 34/100\n",
      "8000/8000 [==============================] - 1s 125us/step - loss: 0.4000 - acc: 0.8569\n",
      "Epoch 35/100\n",
      "8000/8000 [==============================] - 1s 122us/step - loss: 0.4003 - acc: 0.8556\n",
      "Epoch 36/100\n",
      "8000/8000 [==============================] - 1s 126us/step - loss: 0.3987 - acc: 0.8565\n",
      "Epoch 37/100\n",
      "8000/8000 [==============================] - 1s 130us/step - loss: 0.3981 - acc: 0.8579\n",
      "Epoch 38/100\n",
      "8000/8000 [==============================] - 1s 127us/step - loss: 0.3985 - acc: 0.8586\n",
      "Epoch 39/100\n",
      "8000/8000 [==============================] - 1s 124us/step - loss: 0.3986 - acc: 0.8561\n",
      "Epoch 40/100\n",
      "8000/8000 [==============================] - 1s 127us/step - loss: 0.3982 - acc: 0.8587\n",
      "Epoch 41/100\n",
      "8000/8000 [==============================] - 1s 123us/step - loss: 0.3984 - acc: 0.8564\n",
      "Epoch 42/100\n",
      "8000/8000 [==============================] - 1s 122us/step - loss: 0.3982 - acc: 0.8581\n",
      "Epoch 43/100\n",
      "8000/8000 [==============================] - 1s 125us/step - loss: 0.3982 - acc: 0.8562\n",
      "Epoch 44/100\n",
      "8000/8000 [==============================] - 1s 125us/step - loss: 0.3974 - acc: 0.8566\n",
      "Epoch 45/100\n",
      "8000/8000 [==============================] - 1s 122us/step - loss: 0.3966 - acc: 0.8586\n",
      "Epoch 46/100\n",
      "8000/8000 [==============================] - 1s 123us/step - loss: 0.3970 - acc: 0.8601\n",
      "Epoch 47/100\n",
      "8000/8000 [==============================] - 1s 127us/step - loss: 0.3967 - acc: 0.8570\n",
      "Epoch 48/100\n",
      "8000/8000 [==============================] - 1s 123us/step - loss: 0.3971 - acc: 0.8569\n",
      "Epoch 49/100\n",
      "8000/8000 [==============================] - 1s 123us/step - loss: 0.3964 - acc: 0.8580\n",
      "Epoch 50/100\n",
      "8000/8000 [==============================] - 1s 121us/step - loss: 0.3967 - acc: 0.8586\n",
      "Epoch 51/100\n",
      "8000/8000 [==============================] - 1s 121us/step - loss: 0.3967 - acc: 0.8584\n",
      "Epoch 52/100\n",
      "8000/8000 [==============================] - 1s 119us/step - loss: 0.3968 - acc: 0.8579\n",
      "Epoch 53/100\n",
      "8000/8000 [==============================] - 1s 124us/step - loss: 0.3960 - acc: 0.8572\n",
      "Epoch 54/100\n",
      "8000/8000 [==============================] - 1s 129us/step - loss: 0.3956 - acc: 0.8599\n",
      "Epoch 55/100\n",
      "8000/8000 [==============================] - 1s 124us/step - loss: 0.3962 - acc: 0.8575\n",
      "Epoch 56/100\n",
      "8000/8000 [==============================] - 1s 129us/step - loss: 0.3965 - acc: 0.8595\n",
      "Epoch 57/100\n",
      "8000/8000 [==============================] - 1s 124us/step - loss: 0.3965 - acc: 0.8564\n",
      "Epoch 58/100\n",
      "8000/8000 [==============================] - 1s 120us/step - loss: 0.3955 - acc: 0.8586\n",
      "Epoch 59/100\n",
      "8000/8000 [==============================] - 1s 120us/step - loss: 0.3957 - acc: 0.8597\n",
      "Epoch 60/100\n",
      "8000/8000 [==============================] - 1s 127us/step - loss: 0.3958 - acc: 0.8574\n",
      "Epoch 61/100\n",
      "8000/8000 [==============================] - 1s 123us/step - loss: 0.3960 - acc: 0.8581\n",
      "Epoch 62/100\n",
      "8000/8000 [==============================] - 1s 126us/step - loss: 0.3964 - acc: 0.8572\n",
      "Epoch 63/100\n",
      "8000/8000 [==============================] - 1s 132us/step - loss: 0.3954 - acc: 0.8584\n",
      "Epoch 64/100\n",
      "8000/8000 [==============================] - 1s 130us/step - loss: 0.3953 - acc: 0.8594\n",
      "Epoch 65/100\n",
      "8000/8000 [==============================] - 1s 128us/step - loss: 0.3954 - acc: 0.8591\n",
      "Epoch 66/100\n",
      "8000/8000 [==============================] - 1s 123us/step - loss: 0.3958 - acc: 0.8602\n",
      "Epoch 67/100\n",
      "8000/8000 [==============================] - 1s 125us/step - loss: 0.3949 - acc: 0.8589\n",
      "Epoch 68/100\n",
      "8000/8000 [==============================] - 1s 119us/step - loss: 0.3955 - acc: 0.8576\n",
      "Epoch 69/100\n",
      "8000/8000 [==============================] - 1s 120us/step - loss: 0.3953 - acc: 0.8572\n",
      "Epoch 70/100\n",
      "8000/8000 [==============================] - 1s 123us/step - loss: 0.3950 - acc: 0.8585\n",
      "Epoch 71/100\n",
      "8000/8000 [==============================] - 1s 128us/step - loss: 0.3953 - acc: 0.8594\n",
      "Epoch 72/100\n",
      "8000/8000 [==============================] - 1s 122us/step - loss: 0.3960 - acc: 0.8601\n",
      "Epoch 73/100\n",
      "8000/8000 [==============================] - 1s 122us/step - loss: 0.3955 - acc: 0.8582\n",
      "Epoch 74/100\n",
      "8000/8000 [==============================] - 1s 125us/step - loss: 0.3950 - acc: 0.8587\n",
      "Epoch 75/100\n",
      "8000/8000 [==============================] - 1s 125us/step - loss: 0.3952 - acc: 0.8565\n",
      "Epoch 76/100\n",
      "8000/8000 [==============================] - 1s 125us/step - loss: 0.3952 - acc: 0.8576\n",
      "Epoch 77/100\n",
      "8000/8000 [==============================] - 1s 122us/step - loss: 0.3947 - acc: 0.8590\n",
      "Epoch 78/100\n",
      "8000/8000 [==============================] - 1s 130us/step - loss: 0.3952 - acc: 0.8595\n",
      "Epoch 79/100\n",
      "8000/8000 [==============================] - 1s 123us/step - loss: 0.3950 - acc: 0.8591\n",
      "Epoch 80/100\n",
      "8000/8000 [==============================] - 1s 128us/step - loss: 0.3950 - acc: 0.8590\n",
      "Epoch 81/100\n",
      "8000/8000 [==============================] - 1s 129us/step - loss: 0.3950 - acc: 0.8585\n",
      "Epoch 82/100\n",
      "8000/8000 [==============================] - 1s 124us/step - loss: 0.3946 - acc: 0.8625\n",
      "Epoch 83/100\n",
      "8000/8000 [==============================] - 1s 123us/step - loss: 0.3950 - acc: 0.8586\n",
      "Epoch 84/100\n",
      "8000/8000 [==============================] - 1s 128us/step - loss: 0.3950 - acc: 0.8569\n",
      "Epoch 85/100\n",
      "8000/8000 [==============================] - 1s 122us/step - loss: 0.3950 - acc: 0.8579\n",
      "Epoch 86/100\n",
      "8000/8000 [==============================] - 1s 128us/step - loss: 0.3950 - acc: 0.8615\n",
      "Epoch 87/100\n",
      "8000/8000 [==============================] - 1s 122us/step - loss: 0.3946 - acc: 0.8584\n",
      "Epoch 88/100\n",
      "8000/8000 [==============================] - 1s 125us/step - loss: 0.3947 - acc: 0.8575\n",
      "Epoch 89/100\n",
      "8000/8000 [==============================] - 1s 129us/step - loss: 0.3943 - acc: 0.8584\n",
      "Epoch 90/100\n",
      "8000/8000 [==============================] - 1s 127us/step - loss: 0.3945 - acc: 0.8571\n",
      "Epoch 91/100\n",
      "8000/8000 [==============================] - 1s 122us/step - loss: 0.3947 - acc: 0.8589\n",
      "Epoch 92/100\n",
      "8000/8000 [==============================] - 1s 124us/step - loss: 0.3953 - acc: 0.8607\n",
      "Epoch 93/100\n",
      "8000/8000 [==============================] - 1s 131us/step - loss: 0.3945 - acc: 0.8610\n",
      "Epoch 94/100\n",
      "8000/8000 [==============================] - 1s 124us/step - loss: 0.3944 - acc: 0.8602\n",
      "Epoch 95/100\n",
      "8000/8000 [==============================] - 1s 128us/step - loss: 0.3947 - acc: 0.8599\n",
      "Epoch 96/100\n",
      "8000/8000 [==============================] - 1s 129us/step - loss: 0.3944 - acc: 0.8585\n",
      "Epoch 97/100\n",
      "8000/8000 [==============================] - 1s 124us/step - loss: 0.3937 - acc: 0.8575\n",
      "Epoch 98/100\n",
      "8000/8000 [==============================] - 1s 122us/step - loss: 0.3952 - acc: 0.8600\n",
      "Epoch 99/100\n",
      "8000/8000 [==============================] - 1s 129us/step - loss: 0.3944 - acc: 0.8591\n",
      "Epoch 100/100\n",
      "8000/8000 [==============================] - 1s 122us/step - loss: 0.3947 - acc: 0.8597\n"
     ]
    },
    {
     "data": {
      "text/plain": [
       "<keras.callbacks.History at 0x7fd75d86dcc0>"
      ]
     },
     "execution_count": 260,
     "metadata": {
      "tags": []
     },
     "output_type": "execute_result"
    }
   ],
   "source": [
    "# Adding the input layer and the first hidden layer\n",
    "classifier.add(Dense(units = 6, kernel_initializer = 'uniform', activation = 'tanh', input_dim = 11))\n",
    "#classifier.add(Dropout(p = 0.1))\n",
    "\n",
    "# Adding the second hidden layer\n",
    "#classifier.add(Dense(units = 6, kernel_initializer = 'uniform', activation = 'tanh'))\n",
    "#classifier.add(Dropout(p = 0.1))\n",
    "\n",
    "# Adding the second hidden layer\n",
    "classifier.add(Dense(units = 6, kernel_initializer = 'uniform', activation = 'tanh'))\n",
    "#classifier.add(Dropout(p = 0.1))\n",
    "\n",
    "# Adding the output layer\n",
    "classifier.add(Dense(units = 1, kernel_initializer = 'uniform', activation = 'sigmoid'))\n",
    "\n",
    "# Compiling the ANN\n",
    "classifier.compile(optimizer = 'adam', loss = 'binary_crossentropy', metrics = ['accuracy'])\n",
    "\n",
    "# Fitting the ANN to the Training set\n",
    "classifier.fit(X_train, y_train, batch_size = 10, epochs = 100, class_weight=class_weight)"
   ]
  },
  {
   "cell_type": "code",
   "execution_count": 0,
   "metadata": {
    "colab": {},
    "colab_type": "code",
    "id": "2n6OsiHrNIj5"
   },
   "outputs": [],
   "source": [
    "# Predicting the Test set results\n",
    "y_pred = classifier.predict(X_test)\n",
    "y_pred = (y_pred > 0.5)\n"
   ]
  },
  {
   "cell_type": "code",
   "execution_count": 262,
   "metadata": {
    "colab": {
     "base_uri": "https://localhost:8080/",
     "height": 51
    },
    "colab_type": "code",
    "id": "4Uwe8ik1ibdv",
    "outputId": "9a82a592-9665-4837-ac80-15df9602707f"
   },
   "outputs": [
    {
     "data": {
      "text/plain": [
       "array([[1472,  123],\n",
       "       [ 171,  234]])"
      ]
     },
     "execution_count": 262,
     "metadata": {
      "tags": []
     },
     "output_type": "execute_result"
    }
   ],
   "source": [
    "from sklearn.metrics import confusion_matrix\n",
    "cm = confusion_matrix(y_test, y_pred)\n",
    "cm"
   ]
  },
  {
   "cell_type": "code",
   "execution_count": 0,
   "metadata": {
    "colab": {},
    "colab_type": "code",
    "id": "SscSDYm_ijBg"
   },
   "outputs": [],
   "source": [
    "cm_ratio = cm/cm.sum(axis = 0)"
   ]
  },
  {
   "cell_type": "code",
   "execution_count": 265,
   "metadata": {
    "colab": {
     "base_uri": "https://localhost:8080/",
     "height": 716
    },
    "colab_type": "code",
    "id": "lYEQQ5t6io4h",
    "outputId": "8d126a8d-14a5-4093-810c-5cb71c2e4432"
   },
   "outputs": [
    {
     "data": {
      "image/png": "[encoded data removed]",
      "text/plain": [
       "<Figure size 1080x864 with 2 Axes>"
      ]
     },
     "metadata": {
      "tags": []
     },
     "output_type": "display_data"
    }
   ],
   "source": [
    "f, ax = plt.subplots(figsize=(15, 12))\n",
    "plt.title(\"Confusion Matrix\")\n",
    "plt.xlabel(\"Predicted\")\n",
    "plt.ylabel(\"Actual\")\n",
    "\n",
    "sns.heatmap(cm2_ratio, mask=np.zeros_like(cm2_ratio, dtype=np.bool), cmap=sns.diverging_palette(220, 10, as_cmap=True),\n",
    "            square=True, annot = True, ax=ax, annot_kws={\"size\":20})\n",
    "plt.show()"
   ]
  },
  {
   "cell_type": "markdown",
   "metadata": {
    "colab_type": "text",
    "id": "OmrNnMpENIj7"
   },
   "source": [
    "### 3.3 K fold cross validation and grid search"
   ]
  },
  {
   "cell_type": "code",
   "execution_count": 0,
   "metadata": {
    "colab": {},
    "colab_type": "code",
    "id": "bzHEbukvNIj7"
   },
   "outputs": [],
   "source": [
    "from keras.wrappers.scikit_learn import KerasClassifier\n",
    "from sklearn.model_selection import cross_val_score\n",
    "from keras.models import Sequential\n",
    "from keras.layers import Dense\n",
    "import time"
   ]
  },
  {
   "cell_type": "code",
   "execution_count": 0,
   "metadata": {
    "colab": {},
    "colab_type": "code",
    "id": "V6nI6aj3NIj9"
   },
   "outputs": [],
   "source": [
    "rt StratifiedKFold\n",
    "\n",
    "#kfold = KFold(10, True, 1)\n",
    "#for train, test in kfold.split(trn_X, trn_y)\n",
    "#accuracies = cross_val_score(estimator = classifier, X = X_train, y = y_train, cv = 10)\n",
    "\n",
    "#accuracies.mean()\n",
    "\n",
    "#accuracies.std()\n",
    "\n",
    "kf = StratifiedKFold(n_splits = 10, shuffle = True, random_state = 2)\n",
    "\n",
    "ifold = 0\n",
    "\n",
    "temp_df = pd.DataFrame(list())\n",
    "temp_df.to_csv('k_fold.csv.csv')\n",
    "f = open('k_fold.csv', 'w')\n",
    "\n",
    "dfObj = pd.DataFrame()\n",
    "\n",
    "df_recall_prec = pd.DataFrame()\n",
    "df_trn_X = pd.DataFrame(X_train)\n",
    "df_trn_y = pd.DataFrame(y_train )\n",
    "\n",
    "class_weight = {0: 1.,\n",
    "                1: 1.3\n",
    "                }\n",
    "\n",
    "for train_index, test_index in kf.split(df_trn_X, df_trn_y):\n",
    "    X_tr_va, X_test =  X_train[train_index],  X_train[test_index]\n",
    "    y_tr_va, y_test = y_train[train_index], y_train[test_index]\n",
    "    ifold = ifold +1\n",
    "\n",
    "    classifier = Sequential()\n",
    "  \n",
    "    column_name = str(ifold)\n",
    " \n",
    "    # Adding the input layer and the first hidden layer\n",
    "    classifier.add(Dense(units = 6, kernel_initializer = 'uniform', activation = 'tanh', input_dim = 11))\n",
    "    #classifier.add(Dropout(p = 0.1))\n",
    "\n",
    "    # Adding the second hidden layer\n",
    "    #classifier.add(Dense(units = 6, kernel_initializer = 'uniform', activation = 'tanh'))\n",
    "    #classifier.add(Dropout(p = 0.1))\n",
    "\n",
    "    # Adding the second hidden layer\n",
    "    classifier.add(Dense(units = 6, kernel_initializer = 'uniform', activation = 'tanh'))\n",
    "    #classifier.add(Dropout(p = 0.1))\n",
    "\n",
    "    # Adding the output layer\n",
    "    classifier.add(Dense(units = 1, kernel_initializer = 'uniform', activation = 'sigmoid'))\n",
    "\n",
    "    # Compiling the ANN\n",
    "    classifier.compile(optimizer = 'adam', loss = 'binary_crossentropy', metrics = ['accuracy'])\n",
    "\n",
    "    # Fitting the ANN to the Training set\n",
    "    classifier.fit(X_train, y_train, batch_size = 10, epochs = 100, class_weight=class_weight)\n",
    "    \n",
    "    \n",
    "    y_pred = classifier.predict(X_test)\n",
    "    y_pred = (y_pred > 0.5)\n",
    "\n",
    "    cm = confusion_matrix(y_test, y_pred)\n",
    "    cm_ratio = cm/cm.sum(axis = 0)\n",
    "\n",
    "     \n",
    "    df_recall_prec[column_name] = cm_ratio.ravel()\n",
    "\n",
    "    \n",
    " \n",
    "df_recall_prec.to_csv(\"cm.csv\")"
   ]
  },
  {
   "cell_type": "code",
   "execution_count": 0,
   "metadata": {
    "colab": {},
    "colab_type": "code",
    "id": "_SrIJQoaNIj_"
   },
   "outputs": [],
   "source": [
    "\n",
    "df_recallPrec= df_recall_prec.T\n",
    "df_= pd.DataFrame(data = df_recallPrec.to_numpy(), columns = ['0', 'recall', '2', 'Precision'])\n",
    "df_\n"
   ]
  },
  {
   "cell_type": "code",
   "execution_count": 0,
   "metadata": {
    "colab": {},
    "colab_type": "code",
    "id": "TzMGyrUBjeWV"
   },
   "outputs": [],
   "source": [
    "# no graphs as more time for the K fold runs\n",
    "\n",
    "f, ax = plt.subplots(figsize=(8, 6))\n",
    "plt.ylabel(\"recall and precision\")\n",
    "plt.title(\"K Fold Threshold Value Distribution\")\n",
    "df_.boxplot(column = ['recall', 'Precision'])"
   ]
  },
  {
   "cell_type": "markdown",
   "metadata": {
    "colab_type": "text",
    "id": "XNYhwP2nNIkE"
   },
   "source": [
    "## Our winner is artifical neural network with class weights: 87% accuracy and 70% of recall."
   ]
  },
  {
   "cell_type": "code",
   "execution_count": 0,
   "metadata": {
    "colab": {},
    "colab_type": "code",
    "id": "qGp5hgBKNIkE"
   },
   "outputs": [],
   "source": []
  }
 ],
 "metadata": {
  "colab": {
   "collapsed_sections": [],
   "name": "BankCustomerChurn_PredictiveModeling.ipynb",
   "provenance": []
  },
  "kernelspec": {
   "display_name": "Python 3",
   "language": "python",
   "name": "python3"
  },
  "language_info": {
   "codemirror_mode": {
    "name": "ipython",
    "version": 3
   },
   "file_extension": ".py",
   "mimetype": "text/x-python",
   "name": "python",
   "nbconvert_exporter": "python",
   "pygments_lexer": "ipython3",
   "version": "3.6.4"
  }
 },
 "nbformat": 4,
 "nbformat_minor": 1
}
